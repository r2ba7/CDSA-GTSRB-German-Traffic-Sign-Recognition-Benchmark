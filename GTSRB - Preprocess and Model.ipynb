{
 "cells": [
  {
   "cell_type": "code",
   "execution_count": 1,
   "id": "5467d6d7",
   "metadata": {},
   "outputs": [
    {
     "name": "stdout",
     "output_type": "stream",
     "text": [
      "Num GPUs Available:  1\n"
     ]
    }
   ],
   "source": [
    "import numpy as np\n",
    "import matplotlib.pyplot as plt\n",
    "import os\n",
    "import shutil\n",
    "\n",
    "import tensorflow as tf\n",
    "print(\"Num GPUs Available: \", len(tf.config.list_physical_devices('GPU')))\n",
    "from tensorflow.keras.preprocessing.image import ImageDataGenerator\n",
    "from tensorflow.keras.models import Sequential\n",
    "from tensorflow.keras.layers import Dense, Dropout, Activation, Flatten\n",
    "from tensorflow.keras.layers import Conv2D, MaxPooling2D"
   ]
  },
  {
   "cell_type": "markdown",
   "id": "30298ed6",
   "metadata": {},
   "source": [
    "# Preprocessing."
   ]
  },
  {
   "cell_type": "code",
   "execution_count": 2,
   "id": "574a631b",
   "metadata": {},
   "outputs": [],
   "source": [
    "seed = 42\n",
    "np.random.seed(seed)"
   ]
  },
  {
   "cell_type": "code",
   "execution_count": 3,
   "id": "6a041100",
   "metadata": {},
   "outputs": [
    {
     "name": "stdout",
     "output_type": "stream",
     "text": [
      "Already Created\n"
     ]
    }
   ],
   "source": [
    "root_dir = 'Datasets/GTSRB - German Traffic Sign Recognition Benchmark/'\n",
    "directory = 'Datasets/GTSRB - German Traffic Sign Recognition Benchmark/Train/'\n",
    "try:\n",
    "    os.makedirs('Datasets/GTSRB - German Traffic Sign Recognition Benchmark/Working/Train')\n",
    "    os.makedirs('Datasets/GTSRB - German Traffic Sign Recognition Benchmark/Working/Valid/')\n",
    "except:\n",
    "    print('Already Created')"
   ]
  },
  {
   "cell_type": "code",
   "execution_count": 4,
   "id": "7d484a16",
   "metadata": {},
   "outputs": [
    {
     "name": "stdout",
     "output_type": "stream",
     "text": [
      "['0', '1', '10', '11', '12', '13', '14', '15', '16', '17', '18', '19', '2', '20', '21', '22', '23', '24', '25', '26', '27', '28', '29', '3', '30', '31', '32', '33', '34', '35', '36', '37', '38', '39', '4', '40', '41', '42', '5', '6', '7', '8', '9'],\n",
      " number: 43\n"
     ]
    }
   ],
   "source": [
    "classes = os.listdir(directory)\n",
    "num_classes = len(classes)\n",
    "print(f'{classes},\\n number: {num_classes}')"
   ]
  },
  {
   "cell_type": "code",
   "execution_count": 5,
   "id": "79294820",
   "metadata": {},
   "outputs": [
    {
     "name": "stdout",
     "output_type": "stream",
     "text": [
      "['Datasets/GTSRB - German Traffic Sign Recognition Benchmark/Train/0', 'Datasets/GTSRB - German Traffic Sign Recognition Benchmark/Train/1', 'Datasets/GTSRB - German Traffic Sign Recognition Benchmark/Train/10', 'Datasets/GTSRB - German Traffic Sign Recognition Benchmark/Train/11', 'Datasets/GTSRB - German Traffic Sign Recognition Benchmark/Train/12', 'Datasets/GTSRB - German Traffic Sign Recognition Benchmark/Train/13', 'Datasets/GTSRB - German Traffic Sign Recognition Benchmark/Train/14', 'Datasets/GTSRB - German Traffic Sign Recognition Benchmark/Train/15', 'Datasets/GTSRB - German Traffic Sign Recognition Benchmark/Train/16', 'Datasets/GTSRB - German Traffic Sign Recognition Benchmark/Train/17', 'Datasets/GTSRB - German Traffic Sign Recognition Benchmark/Train/18', 'Datasets/GTSRB - German Traffic Sign Recognition Benchmark/Train/19', 'Datasets/GTSRB - German Traffic Sign Recognition Benchmark/Train/2', 'Datasets/GTSRB - German Traffic Sign Recognition Benchmark/Train/20', 'Datasets/GTSRB - German Traffic Sign Recognition Benchmark/Train/21', 'Datasets/GTSRB - German Traffic Sign Recognition Benchmark/Train/22', 'Datasets/GTSRB - German Traffic Sign Recognition Benchmark/Train/23', 'Datasets/GTSRB - German Traffic Sign Recognition Benchmark/Train/24', 'Datasets/GTSRB - German Traffic Sign Recognition Benchmark/Train/25', 'Datasets/GTSRB - German Traffic Sign Recognition Benchmark/Train/26', 'Datasets/GTSRB - German Traffic Sign Recognition Benchmark/Train/27', 'Datasets/GTSRB - German Traffic Sign Recognition Benchmark/Train/28', 'Datasets/GTSRB - German Traffic Sign Recognition Benchmark/Train/29', 'Datasets/GTSRB - German Traffic Sign Recognition Benchmark/Train/3', 'Datasets/GTSRB - German Traffic Sign Recognition Benchmark/Train/30', 'Datasets/GTSRB - German Traffic Sign Recognition Benchmark/Train/31', 'Datasets/GTSRB - German Traffic Sign Recognition Benchmark/Train/32', 'Datasets/GTSRB - German Traffic Sign Recognition Benchmark/Train/33', 'Datasets/GTSRB - German Traffic Sign Recognition Benchmark/Train/34', 'Datasets/GTSRB - German Traffic Sign Recognition Benchmark/Train/35', 'Datasets/GTSRB - German Traffic Sign Recognition Benchmark/Train/36', 'Datasets/GTSRB - German Traffic Sign Recognition Benchmark/Train/37', 'Datasets/GTSRB - German Traffic Sign Recognition Benchmark/Train/38', 'Datasets/GTSRB - German Traffic Sign Recognition Benchmark/Train/39', 'Datasets/GTSRB - German Traffic Sign Recognition Benchmark/Train/4', 'Datasets/GTSRB - German Traffic Sign Recognition Benchmark/Train/40', 'Datasets/GTSRB - German Traffic Sign Recognition Benchmark/Train/41', 'Datasets/GTSRB - German Traffic Sign Recognition Benchmark/Train/42', 'Datasets/GTSRB - German Traffic Sign Recognition Benchmark/Train/5', 'Datasets/GTSRB - German Traffic Sign Recognition Benchmark/Train/6', 'Datasets/GTSRB - German Traffic Sign Recognition Benchmark/Train/7', 'Datasets/GTSRB - German Traffic Sign Recognition Benchmark/Train/8', 'Datasets/GTSRB - German Traffic Sign Recognition Benchmark/Train/9']\n"
     ]
    }
   ],
   "source": [
    "source_path=[directory +f'{a}' for a in classes]\n",
    "print(source_path)"
   ]
  },
  {
   "cell_type": "code",
   "execution_count": 6,
   "id": "36329013",
   "metadata": {},
   "outputs": [
    {
     "data": {
      "text/plain": [
       "['0_dir',\n",
       " '1_dir',\n",
       " '10_dir',\n",
       " '11_dir',\n",
       " '12_dir',\n",
       " '13_dir',\n",
       " '14_dir',\n",
       " '15_dir',\n",
       " '16_dir',\n",
       " '17_dir',\n",
       " '18_dir',\n",
       " '19_dir',\n",
       " '2_dir',\n",
       " '20_dir',\n",
       " '21_dir',\n",
       " '22_dir',\n",
       " '23_dir',\n",
       " '24_dir',\n",
       " '25_dir',\n",
       " '26_dir',\n",
       " '27_dir',\n",
       " '28_dir',\n",
       " '29_dir',\n",
       " '3_dir',\n",
       " '30_dir',\n",
       " '31_dir',\n",
       " '32_dir',\n",
       " '33_dir',\n",
       " '34_dir',\n",
       " '35_dir',\n",
       " '36_dir',\n",
       " '37_dir',\n",
       " '38_dir',\n",
       " '39_dir',\n",
       " '4_dir',\n",
       " '40_dir',\n",
       " '41_dir',\n",
       " '42_dir',\n",
       " '5_dir',\n",
       " '6_dir',\n",
       " '7_dir',\n",
       " '8_dir',\n",
       " '9_dir']"
      ]
     },
     "execution_count": 6,
     "metadata": {},
     "output_type": "execute_result"
    }
   ],
   "source": [
    "classes_dir=[f'{a}_dir' for a in classes]\n",
    "classes_dir"
   ]
  },
  {
   "cell_type": "code",
   "execution_count": 7,
   "id": "38957069",
   "metadata": {},
   "outputs": [
    {
     "name": "stdout",
     "output_type": "stream",
     "text": [
      "0_dir :  210\n",
      "1_dir :  2220\n",
      "10_dir :  2010\n",
      "11_dir :  1320\n",
      "12_dir :  2100\n",
      "13_dir :  2160\n",
      "14_dir :  780\n",
      "15_dir :  630\n",
      "16_dir :  420\n",
      "17_dir :  1110\n",
      "18_dir :  1200\n",
      "19_dir :  210\n",
      "2_dir :  2250\n",
      "20_dir :  360\n",
      "21_dir :  330\n",
      "22_dir :  390\n",
      "23_dir :  510\n",
      "24_dir :  270\n",
      "25_dir :  1500\n",
      "26_dir :  600\n",
      "27_dir :  240\n",
      "28_dir :  540\n",
      "29_dir :  270\n",
      "3_dir :  1410\n",
      "30_dir :  450\n",
      "31_dir :  780\n",
      "32_dir :  240\n",
      "33_dir :  689\n",
      "34_dir :  420\n",
      "35_dir :  1200\n",
      "36_dir :  390\n",
      "37_dir :  210\n",
      "38_dir :  2070\n",
      "39_dir :  300\n",
      "4_dir :  1980\n",
      "40_dir :  360\n",
      "41_dir :  240\n",
      "42_dir :  240\n",
      "5_dir :  1860\n",
      "6_dir :  420\n",
      "7_dir :  1440\n",
      "8_dir :  1410\n",
      "9_dir :  1470\n"
     ]
    }
   ],
   "source": [
    "for cl_dir,cl_path in zip(classes_dir,source_path):\n",
    "    print(cl_dir,': ',len(os.listdir(cl_path)))"
   ]
  },
  {
   "cell_type": "code",
   "execution_count": 8,
   "id": "8e41c356",
   "metadata": {},
   "outputs": [],
   "source": [
    "train = 'Datasets/GTSRB - German Traffic Sign Recognition Benchmark/Working/Train'\n",
    "valid = 'Datasets/GTSRB - German Traffic Sign Recognition Benchmark/Working/Valid'"
   ]
  },
  {
   "cell_type": "code",
   "execution_count": 9,
   "id": "ec9583f8",
   "metadata": {},
   "outputs": [],
   "source": [
    "import glob\n",
    "from sklearn.model_selection import train_test_split\n",
    "\n",
    "def split(data_path, train, validation, split_size=0.1):\n",
    "    folders = os.listdir(data_path)\n",
    "    for folder in folders:\n",
    "        fullpath = os.path.join(data_path, folder)\n",
    "        image = glob.glob(os.path.join(fullpath,'*.png'))\n",
    "       \n",
    "        X_train, X_valid = train_test_split(image, test_size = split_size)\n",
    "       \n",
    "        for x in X_train:\n",
    "         #   print(x)\n",
    "            path_to_folder = os.path.join(train,folder)\n",
    "           \n",
    "            if not os.path.isdir(path_to_folder):\n",
    "                os.makedirs(path_to_folder)\n",
    "            shutil.copy(x,path_to_folder)\n",
    "       \n",
    "        for y in X_valid:\n",
    "            path_to_folder = os.path.join(validation, folder)\n",
    "            if not os.path.isdir(path_to_folder):\n",
    "                os.makedirs(path_to_folder)\n",
    "            shutil.copy(y, path_to_folder)"
   ]
  },
  {
   "cell_type": "code",
   "execution_count": 10,
   "id": "a966d615",
   "metadata": {},
   "outputs": [],
   "source": [
    "#Commented to not run again\n",
    "#split(directory, train=train,validation=valid,split_size = 0.2)"
   ]
  },
  {
   "cell_type": "code",
   "execution_count": 11,
   "id": "2a9c5478",
   "metadata": {},
   "outputs": [
    {
     "data": {
      "text/html": [
       "<div>\n",
       "<style scoped>\n",
       "    .dataframe tbody tr th:only-of-type {\n",
       "        vertical-align: middle;\n",
       "    }\n",
       "\n",
       "    .dataframe tbody tr th {\n",
       "        vertical-align: top;\n",
       "    }\n",
       "\n",
       "    .dataframe thead th {\n",
       "        text-align: right;\n",
       "    }\n",
       "</style>\n",
       "<table border=\"1\" class=\"dataframe\">\n",
       "  <thead>\n",
       "    <tr style=\"text-align: right;\">\n",
       "      <th></th>\n",
       "      <th>Width</th>\n",
       "      <th>Height</th>\n",
       "      <th>Roi.X1</th>\n",
       "      <th>Roi.Y1</th>\n",
       "      <th>Roi.X2</th>\n",
       "      <th>Roi.Y2</th>\n",
       "      <th>ClassId</th>\n",
       "      <th>Path</th>\n",
       "    </tr>\n",
       "  </thead>\n",
       "  <tbody>\n",
       "    <tr>\n",
       "      <th>0</th>\n",
       "      <td>53</td>\n",
       "      <td>54</td>\n",
       "      <td>6</td>\n",
       "      <td>5</td>\n",
       "      <td>48</td>\n",
       "      <td>49</td>\n",
       "      <td>16</td>\n",
       "      <td>Test/00000.png</td>\n",
       "    </tr>\n",
       "    <tr>\n",
       "      <th>1</th>\n",
       "      <td>42</td>\n",
       "      <td>45</td>\n",
       "      <td>5</td>\n",
       "      <td>5</td>\n",
       "      <td>36</td>\n",
       "      <td>40</td>\n",
       "      <td>1</td>\n",
       "      <td>Test/00001.png</td>\n",
       "    </tr>\n",
       "    <tr>\n",
       "      <th>2</th>\n",
       "      <td>48</td>\n",
       "      <td>52</td>\n",
       "      <td>6</td>\n",
       "      <td>6</td>\n",
       "      <td>43</td>\n",
       "      <td>47</td>\n",
       "      <td>38</td>\n",
       "      <td>Test/00002.png</td>\n",
       "    </tr>\n",
       "    <tr>\n",
       "      <th>3</th>\n",
       "      <td>27</td>\n",
       "      <td>29</td>\n",
       "      <td>5</td>\n",
       "      <td>5</td>\n",
       "      <td>22</td>\n",
       "      <td>24</td>\n",
       "      <td>33</td>\n",
       "      <td>Test/00003.png</td>\n",
       "    </tr>\n",
       "    <tr>\n",
       "      <th>4</th>\n",
       "      <td>60</td>\n",
       "      <td>57</td>\n",
       "      <td>5</td>\n",
       "      <td>5</td>\n",
       "      <td>55</td>\n",
       "      <td>52</td>\n",
       "      <td>11</td>\n",
       "      <td>Test/00004.png</td>\n",
       "    </tr>\n",
       "    <tr>\n",
       "      <th>5</th>\n",
       "      <td>52</td>\n",
       "      <td>56</td>\n",
       "      <td>5</td>\n",
       "      <td>5</td>\n",
       "      <td>47</td>\n",
       "      <td>51</td>\n",
       "      <td>38</td>\n",
       "      <td>Test/00005.png</td>\n",
       "    </tr>\n",
       "    <tr>\n",
       "      <th>6</th>\n",
       "      <td>147</td>\n",
       "      <td>130</td>\n",
       "      <td>12</td>\n",
       "      <td>12</td>\n",
       "      <td>135</td>\n",
       "      <td>119</td>\n",
       "      <td>18</td>\n",
       "      <td>Test/00006.png</td>\n",
       "    </tr>\n",
       "    <tr>\n",
       "      <th>7</th>\n",
       "      <td>32</td>\n",
       "      <td>33</td>\n",
       "      <td>5</td>\n",
       "      <td>5</td>\n",
       "      <td>26</td>\n",
       "      <td>28</td>\n",
       "      <td>12</td>\n",
       "      <td>Test/00007.png</td>\n",
       "    </tr>\n",
       "    <tr>\n",
       "      <th>8</th>\n",
       "      <td>45</td>\n",
       "      <td>50</td>\n",
       "      <td>6</td>\n",
       "      <td>5</td>\n",
       "      <td>40</td>\n",
       "      <td>45</td>\n",
       "      <td>25</td>\n",
       "      <td>Test/00008.png</td>\n",
       "    </tr>\n",
       "    <tr>\n",
       "      <th>9</th>\n",
       "      <td>81</td>\n",
       "      <td>86</td>\n",
       "      <td>7</td>\n",
       "      <td>7</td>\n",
       "      <td>74</td>\n",
       "      <td>79</td>\n",
       "      <td>35</td>\n",
       "      <td>Test/00009.png</td>\n",
       "    </tr>\n",
       "  </tbody>\n",
       "</table>\n",
       "</div>"
      ],
      "text/plain": [
       "   Width  Height  Roi.X1  Roi.Y1  Roi.X2  Roi.Y2  ClassId            Path\n",
       "0     53      54       6       5      48      49       16  Test/00000.png\n",
       "1     42      45       5       5      36      40        1  Test/00001.png\n",
       "2     48      52       6       6      43      47       38  Test/00002.png\n",
       "3     27      29       5       5      22      24       33  Test/00003.png\n",
       "4     60      57       5       5      55      52       11  Test/00004.png\n",
       "5     52      56       5       5      47      51       38  Test/00005.png\n",
       "6    147     130      12      12     135     119       18  Test/00006.png\n",
       "7     32      33       5       5      26      28       12  Test/00007.png\n",
       "8     45      50       6       5      40      45       25  Test/00008.png\n",
       "9     81      86       7       7      74      79       35  Test/00009.png"
      ]
     },
     "execution_count": 11,
     "metadata": {},
     "output_type": "execute_result"
    }
   ],
   "source": [
    "import pandas as pd\n",
    "\n",
    "df = pd.read_csv(\"Datasets/GTSRB - German Traffic Sign Recognition Benchmark/Test.csv\")\n",
    "df.head(10)"
   ]
  },
  {
   "cell_type": "code",
   "execution_count": 12,
   "id": "7f3989d1",
   "metadata": {},
   "outputs": [],
   "source": [
    "target = df['ClassId']"
   ]
  },
  {
   "cell_type": "code",
   "execution_count": 13,
   "id": "b0813c06",
   "metadata": {},
   "outputs": [
    {
     "name": "stdout",
     "output_type": "stream",
     "text": [
      "Already Created\n"
     ]
    }
   ],
   "source": [
    "try:\n",
    "    os.makedirs('Datasets/GTSRB - German Traffic Sign Recognition Benchmark/Working/Test/')\n",
    "except:\n",
    "    print('Already Created')"
   ]
  },
  {
   "cell_type": "code",
   "execution_count": 14,
   "id": "137a1af6",
   "metadata": {},
   "outputs": [],
   "source": [
    "test = 'Datasets/GTSRB - German Traffic Sign Recognition Benchmark/Working/Test/'"
   ]
  },
  {
   "cell_type": "code",
   "execution_count": 15,
   "id": "74a7446e",
   "metadata": {},
   "outputs": [
    {
     "data": {
      "text/plain": [
       "'Datasets/GTSRB - German Traffic Sign Recognition Benchmark/'"
      ]
     },
     "execution_count": 15,
     "metadata": {},
     "output_type": "execute_result"
    }
   ],
   "source": [
    "root_dir"
   ]
  },
  {
   "cell_type": "code",
   "execution_count": 16,
   "id": "eef4df6a",
   "metadata": {},
   "outputs": [],
   "source": [
    "def prepare_test(csv_path, src, dst):\n",
    "    with open(csv_path, \"r\") as f:\n",
    "        next(f)\n",
    "        for line in f:\n",
    "            split_line = line.split(',')\n",
    "            image = split_line[-1][:-1]\n",
    "            label = split_line[-2]\n",
    "            #print(image, label)\n",
    "            destination = dst + label\n",
    "            if not os.path.isdir(destination):\n",
    "                os.makedirs(destination)\n",
    "            shutil.copy(src + image,destination)"
   ]
  },
  {
   "cell_type": "code",
   "execution_count": 17,
   "id": "82f6adb4",
   "metadata": {},
   "outputs": [],
   "source": [
    "csv_path = \"Datasets/GTSRB - German Traffic Sign Recognition Benchmark/Test.csv\"\n",
    "src = root_dir\n",
    "dst = test\n",
    "#Commented to not run again\n",
    "#prepare_test(csv_path, src, dst)"
   ]
  },
  {
   "cell_type": "markdown",
   "id": "a29cf38c",
   "metadata": {},
   "source": [
    "# Modeling"
   ]
  },
  {
   "cell_type": "code",
   "execution_count": 18,
   "id": "a5e56110",
   "metadata": {},
   "outputs": [],
   "source": [
    "import tensorflow as tf\n",
    "from tensorflow.keras.layers import Conv2D, Input, Dense, MaxPool2D, MaxPooling2D, Flatten, BatchNormalization, GlobalAvgPool2D, Dropout, AveragePooling2D\n",
    "from tensorflow.keras.preprocessing.image import ImageDataGenerator\n",
    "from tensorflow.keras.callbacks import ModelCheckpoint\n",
    "\n",
    "from tensorflow.keras import Model"
   ]
  },
  {
   "cell_type": "code",
   "execution_count": 19,
   "id": "d4f21d12",
   "metadata": {},
   "outputs": [],
   "source": [
    "width, height = 60, 60\n",
    "batch_size = 64\n",
    "# num_classes"
   ]
  },
  {
   "cell_type": "code",
   "execution_count": 20,
   "id": "974615f9",
   "metadata": {},
   "outputs": [],
   "source": [
    "classes_indices = ['0', '1', '2', '3', '4', '5', '6', '7', '8', '9','10','11','12','13','14','15','16','17','18','19',\n",
    "                   '20', '21', '22', '23', '24', '25', '26', '27', '28', '29', '30', '31', '32', '33', '34', \n",
    "                   '35', '36', '37', '38', '39', '40', '41', '42']"
   ]
  },
  {
   "cell_type": "code",
   "execution_count": 72,
   "id": "0092b013",
   "metadata": {},
   "outputs": [],
   "source": [
    "def create_generators(train, valid, test):\n",
    "    train_data_generator = ImageDataGenerator(rescale=1/255, data_format='channels_last', dtype=tf.float32)\n",
    "\n",
    "    train_generator = train_data_generator.flow_from_directory(\n",
    "        directory=train,\n",
    "        target_size=(height, width),\n",
    "        color_mode=\"rgb\",\n",
    "        batch_size=batch_size,\n",
    "        class_mode=\"categorical\",\n",
    "        shuffle=True,\n",
    "        seed=42,\n",
    "        classes=classes_indices \n",
    "    )\n",
    "\n",
    "    valid_data_generator = ImageDataGenerator(rescale=1/255, dtype=tf.float32, data_format='channels_last')\n",
    "    valid_generator = valid_data_generator.flow_from_directory(\n",
    "        directory=valid,\n",
    "        target_size=(height, width),\n",
    "        color_mode=\"rgb\",\n",
    "        batch_size=batch_size,\n",
    "        class_mode=\"categorical\",\n",
    "        shuffle=True,\n",
    "        seed=42,\n",
    "        classes=classes_indices \n",
    "    )\n",
    "\n",
    "    test_data_generator = ImageDataGenerator(rescale=1/255, dtype=tf.float32, data_format='channels_last')\n",
    "    test_generator = test_data_generator.flow_from_directory(\n",
    "        directory=test,\n",
    "        target_size=(height, width),\n",
    "        color_mode=\"rgb\",\n",
    "        batch_size=batch_size,\n",
    "        class_mode=\"categorical\",\n",
    "        shuffle=False,\n",
    "        classes=classes_indices \n",
    "    )\n",
    "    \n",
    "    return (train_generator, valid_generator, test_generator)"
   ]
  },
  {
   "cell_type": "code",
   "execution_count": 73,
   "id": "859e8765",
   "metadata": {},
   "outputs": [
    {
     "name": "stdout",
     "output_type": "stream",
     "text": [
      "Found 31367 images belonging to 43 classes.\n",
      "Found 7842 images belonging to 43 classes.\n",
      "Found 12630 images belonging to 43 classes.\n"
     ]
    }
   ],
   "source": [
    "train_generator, valid_generator, test_generator = create_generators(train, valid, test)"
   ]
  },
  {
   "cell_type": "code",
   "execution_count": 74,
   "id": "1ae26eb5",
   "metadata": {},
   "outputs": [],
   "source": [
    "# Lets setup a default layer, \n",
    "import tensorflow\n",
    "\n",
    "class ConvBlock(tensorflow.keras.layers.Layer):\n",
    "    def __init__(self, channels, **kwargs):\n",
    "        super(ConvBlock, self).__init__(**kwargs)\n",
    "        self.channels = channels\n",
    "        \n",
    "    def build(self, input_shape):\n",
    "        self.main_layers=[\n",
    "            Conv2D(self.channels[0], 3, padding=\"same\", activation='relu', input_shape=input_shape),\n",
    "            Conv2D(self.channels[0], 3, padding=\"same\", activation='relu'),\n",
    "            MaxPooling2D(2),\n",
    "            Dropout(0.2),\n",
    "            Conv2D(self.channels[1], 3, padding=\"same\", activation='relu'),\n",
    "            Conv2D(self.channels[1], 3, padding=\"same\", activation='relu'),\n",
    "            MaxPooling2D(2),\n",
    "            Dropout(0.3),\n",
    "            Conv2D(self.channels[2], 3, padding=\"same\", activation='relu'),\n",
    "            Conv2D(self.channels[2], 3, padding=\"same\", activation='relu'),\n",
    "            MaxPooling2D(2),\n",
    "            Dropout(0.3)\n",
    "        ]\n",
    "\n",
    "    def call(self, inputs):\n",
    "        x = inputs\n",
    "        for layer in self.main_layers:\n",
    "            x = layer(x)\n",
    "        return x\n",
    "    \n",
    "    def get_config(self):\n",
    "        config = super(ConvBlock, self).get_config()\n",
    "        config.update({\"channels\": self.channels})\n",
    "        return channels"
   ]
  },
  {
   "cell_type": "code",
   "execution_count": 75,
   "id": "bf619dbe",
   "metadata": {},
   "outputs": [],
   "source": [
    "class FullModel(tensorflow.keras.Model):\n",
    "    def __init__(self, channels, num_classes=43):\n",
    "        super().__init__()\n",
    "        self.channels = channels\n",
    "        self.drop = Dropout(0.3)        \n",
    "        self.main_layers = [\n",
    "            ConvBlock(self.channels),\n",
    "            Flatten(),\n",
    "            Dense(512, activation = 'relu'),\n",
    "            Dense(256, activation = 'relu'),\n",
    "            Dense(num_classes, activation='softmax')\n",
    "        ]\n",
    "        \n",
    "    def call(self, inputs):\n",
    "#         x = self.conv_block(inputs)\n",
    "#         x = self.flat(x)\n",
    "#         x = self.dense1(x)\n",
    "#         x = self.drop(x)\n",
    "#         x = self.dense2(x)\n",
    "        x = inputs\n",
    "        for layer in self.main_layers:\n",
    "            x = layer(x)\n",
    "        return x\n",
    "    \n",
    "    def summary(self):\n",
    "        x = Input(shape=(60, 60, 3))\n",
    "        model = Model(inputs=[x], outputs=self.call(x))\n",
    "        return model.summary()\n",
    "    \n",
    "    def get_config(self):\n",
    "        return {\"channels\": self.channels}\n",
    "    \n",
    "    @classmethod\n",
    "    def from_config(cls, config):\n",
    "        return cls(**config)"
   ]
  },
  {
   "cell_type": "code",
   "execution_count": 76,
   "id": "acda6fbe",
   "metadata": {},
   "outputs": [],
   "source": [
    "channels = [32, 64, 128, 256]\n",
    "input_shape = (60, 60, 3)\n",
    "model = FullModel(channels, num_classes)"
   ]
  },
  {
   "cell_type": "code",
   "execution_count": 90,
   "id": "320bdf19",
   "metadata": {},
   "outputs": [],
   "source": [
    "#It's hard to save a model while it's subclassed, so another Sequential or functional model with the same Arch\n",
    "model_repeated = Sequential([\n",
    "            Conv2D(channels[0], 3, padding=\"same\", activation='relu', input_shape=input_shape),\n",
    "            Conv2D(channels[0], 3, padding=\"same\", activation='relu'),\n",
    "            BatchNormalization(),\n",
    "            MaxPooling2D(2),\n",
    "            \n",
    "            Conv2D(channels[1], 3, padding=\"same\", activation='relu'),\n",
    "            Conv2D(channels[1], 3, padding=\"same\", activation='relu'),\n",
    "            BatchNormalization(),\n",
    "            MaxPooling2D(2),\n",
    "            \n",
    "            Conv2D(channels[2], 3, padding=\"same\", activation='relu'),\n",
    "            Conv2D(channels[2], 3, padding=\"same\", activation='relu'),\n",
    "            BatchNormalization(),\n",
    "            MaxPooling2D(2),\n",
    "            \n",
    "    \n",
    "            Conv2D(channels[3], 3, padding=\"same\", activation='relu'),\n",
    "            Conv2D(512, 1, padding=\"same\", activation='relu'),\n",
    "            MaxPooling2D(2),\n",
    "            Dropout(0.3),\n",
    "    \n",
    "            Flatten(),\n",
    "            Dense(1024, activation = 'relu'),\n",
    "            Dropout(0.5),\n",
    "            Dense(512, activation = 'relu'),\n",
    "            Dropout(0.5),\n",
    "            Dense(num_classes, activation='softmax')\n",
    "])"
   ]
  },
  {
   "cell_type": "code",
   "execution_count": 91,
   "id": "2493eb56",
   "metadata": {},
   "outputs": [],
   "source": [
    "\n",
    "# model.compile(optimizer='adam',\n",
    "#     loss=loss,\n",
    "#     metrics=['accuracy'])\n",
    "\n",
    "# STEP_SIZE_TRAIN=train_generator.n//train_generator.batch_size\n",
    "# STEP_SIZE_VALID=valid_generator.n//valid_generator.batch_size\n",
    "# cb = [tensorflow.keras.callbacks.EarlyStopping(patience=5)]\n",
    "# history = model.fit_generator(generator=train_generator,\n",
    "#                     steps_per_epoch=STEP_SIZE_TRAIN,\n",
    "#                     validation_data=valid_generator,\n",
    "#                     validation_steps=STEP_SIZE_VALID,\n",
    "#                     epochs=1,\n",
    "#                     callbacks=cb\n",
    "# )\n",
    "\n",
    "# model.evaluate_generator(valid_generator,\n",
    "#                              steps=STEP_SIZE_VALID,\n",
    "#                              verbose=1)\n",
    "\n",
    "# STEP_SIZE_TEST=test_generator.n//test_generator.batch_size\n",
    "# test_generator.reset()\n",
    "# model.evaluate_generator(test_generator,\n",
    "#                              steps=STEP_SIZE_TEST,\n",
    "#                              verbose=1)"
   ]
  },
  {
   "cell_type": "code",
   "execution_count": 92,
   "id": "276f6266",
   "metadata": {},
   "outputs": [
    {
     "name": "stdout",
     "output_type": "stream",
     "text": [
      "Epoch 1/15\n",
      "491/491 [==============================] - 73s 147ms/step - loss: 1.7223 - accuracy: 0.5152 - val_loss: 0.5417 - val_accuracy: 0.8386\n",
      "Epoch 2/15\n",
      "491/491 [==============================] - 30s 61ms/step - loss: 0.1630 - accuracy: 0.9559 - val_loss: 0.0929 - val_accuracy: 0.9758\n",
      "Epoch 3/15\n",
      "491/491 [==============================] - 24s 49ms/step - loss: 0.0919 - accuracy: 0.9760 - val_loss: 0.0495 - val_accuracy: 0.9870\n",
      "Epoch 4/15\n",
      "491/491 [==============================] - 24s 49ms/step - loss: 0.0642 - accuracy: 0.9849 - val_loss: 0.0679 - val_accuracy: 0.9830\n",
      "Epoch 5/15\n",
      "491/491 [==============================] - 24s 49ms/step - loss: 0.0697 - accuracy: 0.9844 - val_loss: 0.1536 - val_accuracy: 0.9625\n",
      "Epoch 6/15\n",
      "491/491 [==============================] - 24s 49ms/step - loss: 0.0610 - accuracy: 0.9862 - val_loss: 0.1228 - val_accuracy: 0.9712\n",
      "Epoch 7/15\n",
      "491/491 [==============================] - 46s 93ms/step - loss: 0.0480 - accuracy: 0.9901 - val_loss: 0.0302 - val_accuracy: 0.9950\n",
      "Epoch 8/15\n",
      "491/491 [==============================] - 39s 80ms/step - loss: 0.0818 - accuracy: 0.9853 - val_loss: 0.0763 - val_accuracy: 0.9870\n",
      "Epoch 9/15\n",
      "491/491 [==============================] - 27s 56ms/step - loss: 0.0472 - accuracy: 0.9909 - val_loss: 0.0524 - val_accuracy: 0.9929\n",
      "Epoch 10/15\n",
      "491/491 [==============================] - 25s 51ms/step - loss: 0.0470 - accuracy: 0.9907 - val_loss: 0.0332 - val_accuracy: 0.9952\n",
      "Epoch 11/15\n",
      "491/491 [==============================] - 29s 59ms/step - loss: 0.0523 - accuracy: 0.9913 - val_loss: 0.0451 - val_accuracy: 0.9916\n",
      "Epoch 12/15\n",
      "491/491 [==============================] - 28s 57ms/step - loss: 0.0628 - accuracy: 0.9896 - val_loss: 0.0898 - val_accuracy: 0.9790\n",
      "Epoch 13/15\n",
      "491/491 [==============================] - 29s 59ms/step - loss: 0.0590 - accuracy: 0.9901 - val_loss: 0.0483 - val_accuracy: 0.9918\n",
      "Epoch 14/15\n",
      "491/491 [==============================] - 29s 60ms/step - loss: 0.0197 - accuracy: 0.9962 - val_loss: 0.0345 - val_accuracy: 0.9944\n",
      "Epoch 15/15\n",
      "491/491 [==============================] - 27s 55ms/step - loss: 0.0371 - accuracy: 0.9946 - val_loss: 0.0548 - val_accuracy: 0.9916\n"
     ]
    }
   ],
   "source": [
    "STEP_SIZE_TRAIN=train_generator.n//train_generator.batch_size\n",
    "STEP_SIZE_VALID=valid_generator.n//valid_generator.batch_size\n",
    "\n",
    "\n",
    "loss = tensorflow.keras.losses.CategoricalCrossentropy()\n",
    "\n",
    "opt = tensorflow.keras.optimizers.Adam()\n",
    "model_repeated.compile(optimizer=opt,\n",
    "    loss=loss,\n",
    "    metrics=['accuracy'])\n",
    "\n",
    "history = model_repeated.fit(train_generator,\n",
    "                    validation_data=valid_generator,\n",
    "                    batch_size = batch_size,\n",
    "                    epochs=15,\n",
    ")\n",
    "\n"
   ]
  },
  {
   "cell_type": "code",
   "execution_count": 93,
   "id": "9c72d9d5",
   "metadata": {},
   "outputs": [
    {
     "name": "stdout",
     "output_type": "stream",
     "text": [
      "123/123 [==============================] - 6s 48ms/step - loss: 0.0548 - accuracy: 0.9916\n"
     ]
    },
    {
     "data": {
      "text/plain": [
       "[0.05484833940863609, 0.9915837645530701]"
      ]
     },
     "execution_count": 93,
     "metadata": {},
     "output_type": "execute_result"
    }
   ],
   "source": [
    "model_repeated.evaluate(valid_generator, verbose=1)"
   ]
  },
  {
   "cell_type": "code",
   "execution_count": 94,
   "id": "c65a8ff3",
   "metadata": {},
   "outputs": [
    {
     "name": "stdout",
     "output_type": "stream",
     "text": [
      "Model: \"sequential\"\n",
      "_________________________________________________________________\n",
      "Layer (type)                 Output Shape              Param #   \n",
      "=================================================================\n",
      "conv2d (Conv2D)              (None, 60, 60, 32)        896       \n",
      "_________________________________________________________________\n",
      "conv2d_1 (Conv2D)            (None, 60, 60, 32)        9248      \n",
      "_________________________________________________________________\n",
      "batch_normalization (BatchNo (None, 60, 60, 32)        128       \n",
      "_________________________________________________________________\n",
      "max_pooling2d (MaxPooling2D) (None, 30, 30, 32)        0         \n",
      "_________________________________________________________________\n",
      "conv2d_2 (Conv2D)            (None, 30, 30, 64)        18496     \n",
      "_________________________________________________________________\n",
      "conv2d_3 (Conv2D)            (None, 30, 30, 64)        36928     \n",
      "_________________________________________________________________\n",
      "batch_normalization_1 (Batch (None, 30, 30, 64)        256       \n",
      "_________________________________________________________________\n",
      "max_pooling2d_1 (MaxPooling2 (None, 15, 15, 64)        0         \n",
      "_________________________________________________________________\n",
      "conv2d_4 (Conv2D)            (None, 15, 15, 128)       73856     \n",
      "_________________________________________________________________\n",
      "conv2d_5 (Conv2D)            (None, 15, 15, 128)       147584    \n",
      "_________________________________________________________________\n",
      "batch_normalization_2 (Batch (None, 15, 15, 128)       512       \n",
      "_________________________________________________________________\n",
      "max_pooling2d_2 (MaxPooling2 (None, 7, 7, 128)         0         \n",
      "_________________________________________________________________\n",
      "conv2d_6 (Conv2D)            (None, 7, 7, 256)         295168    \n",
      "_________________________________________________________________\n",
      "conv2d_7 (Conv2D)            (None, 7, 7, 512)         131584    \n",
      "_________________________________________________________________\n",
      "max_pooling2d_3 (MaxPooling2 (None, 3, 3, 512)         0         \n",
      "_________________________________________________________________\n",
      "dropout (Dropout)            (None, 3, 3, 512)         0         \n",
      "_________________________________________________________________\n",
      "flatten (Flatten)            (None, 4608)              0         \n",
      "_________________________________________________________________\n",
      "dense (Dense)                (None, 1024)              4719616   \n",
      "_________________________________________________________________\n",
      "dropout_1 (Dropout)          (None, 1024)              0         \n",
      "_________________________________________________________________\n",
      "dense_1 (Dense)              (None, 512)               524800    \n",
      "_________________________________________________________________\n",
      "dropout_2 (Dropout)          (None, 512)               0         \n",
      "_________________________________________________________________\n",
      "dense_2 (Dense)              (None, 43)                22059     \n",
      "=================================================================\n",
      "Total params: 5,981,131\n",
      "Trainable params: 5,980,683\n",
      "Non-trainable params: 448\n",
      "_________________________________________________________________\n"
     ]
    }
   ],
   "source": [
    "#model.summary()\n",
    "model_repeated.summary()"
   ]
  },
  {
   "cell_type": "code",
   "execution_count": 96,
   "id": "1452800f",
   "metadata": {},
   "outputs": [
    {
     "name": "stdout",
     "output_type": "stream",
     "text": [
      "198/198 [==============================] - 8s 39ms/step - loss: 0.2745 - accuracy: 0.9618\n"
     ]
    },
    {
     "data": {
      "text/plain": [
       "[0.2745470404624939, 0.9617577195167542]"
      ]
     },
     "execution_count": 96,
     "metadata": {},
     "output_type": "execute_result"
    }
   ],
   "source": [
    "import warnings\n",
    "warnings.filterwarnings('ignore')\n",
    "\n",
    "tf.keras.backend.clear_session()\n",
    "\n",
    "STEP_SIZE_TEST=test_generator.n//test_generator.batch_size\n",
    "test_generator.reset()\n",
    "model_repeated.evaluate(test_generator,verbose=1)"
   ]
  },
  {
   "cell_type": "code",
   "execution_count": 97,
   "id": "88d0e374",
   "metadata": {},
   "outputs": [
    {
     "name": "stdout",
     "output_type": "stream",
     "text": [
      "INFO:tensorflow:Assets written to: my_model\\assets\n"
     ]
    }
   ],
   "source": [
    "model_repeated.save(\"my_model\")"
   ]
  },
  {
   "cell_type": "code",
   "execution_count": 98,
   "id": "8c5209f6",
   "metadata": {},
   "outputs": [],
   "source": [
    "test_generator.reset()\n",
    "Y_pred = model_repeated.predict_generator(test_generator)\n",
    "y_pred2 = model_repeated.predict(test_generator)\n",
    "y_pred = np.argmax(Y_pred, axis=1)\n",
    "y_pred2 = np.argmax(y_pred2, axis=1)"
   ]
  },
  {
   "cell_type": "code",
   "execution_count": 99,
   "id": "d5c6c269",
   "metadata": {},
   "outputs": [
    {
     "data": {
      "image/png": "[encoded data removed]",
      "text/plain": [
       "<Figure size 576x360 with 1 Axes>"
      ]
     },
     "metadata": {
      "needs_background": "light"
     },
     "output_type": "display_data"
    }
   ],
   "source": [
    "import matplotlib.pyplot as plt\n",
    "%matplotlib inline\n",
    "\n",
    "pd.DataFrame(history.history).plot(figsize=(8,5))\n",
    "plt.show()"
   ]
  },
  {
   "cell_type": "code",
   "execution_count": 100,
   "id": "51eb22ff",
   "metadata": {},
   "outputs": [
    {
     "data": {
      "text/plain": [
       "Text(0.5, 1.0, 'Training and validation loss')"
      ]
     },
     "execution_count": 100,
     "metadata": {},
     "output_type": "execute_result"
    },
    {
     "data": {
      "image/png": "[encoded data removed]",
      "text/plain": [
       "<Figure size 432x288 with 1 Axes>"
      ]
     },
     "metadata": {
      "needs_background": "light"
     },
     "output_type": "display_data"
    },
    {
     "data": {
      "image/png": "[encoded data removed]",
      "text/plain": [
       "<Figure size 432x288 with 1 Axes>"
      ]
     },
     "metadata": {
      "needs_background": "light"
     },
     "output_type": "display_data"
    }
   ],
   "source": [
    "acc      = history.history['accuracy']\n",
    "val_acc  = history.history[ 'val_accuracy' ]\n",
    "loss     = history.history['loss']\n",
    "val_loss = history.history['val_loss' ]\n",
    "\n",
    "epochs   = range(len(acc))\n",
    "\n",
    "plt.plot  ( epochs, acc )\n",
    "plt.plot  ( epochs, val_acc )\n",
    "plt.title ('Training and validation accuracy')\n",
    "plt.figure()\n",
    "\n",
    "plt.plot  ( epochs,     loss )\n",
    "plt.plot  ( epochs, val_loss )\n",
    "plt.title ('Training and validation loss')"
   ]
  },
  {
   "cell_type": "code",
   "execution_count": 101,
   "id": "1ec7cc63",
   "metadata": {},
   "outputs": [],
   "source": [
    "labels = (train_generator.class_indices)\n",
    "labels = dict((v,k) for k,v in labels.items())\n",
    "predictions = [labels[k] for k in y_pred]"
   ]
  },
  {
   "cell_type": "code",
   "execution_count": 102,
   "id": "ccee3484",
   "metadata": {},
   "outputs": [],
   "source": [
    "filenames=test_generator.filenames\n",
    "results=pd.DataFrame({\"Filename\":filenames,\n",
    "                      \"Predictions\":y_pred2})"
   ]
  },
  {
   "cell_type": "code",
   "execution_count": 103,
   "id": "42280572",
   "metadata": {},
   "outputs": [
    {
     "data": {
      "text/html": [
       "<div>\n",
       "<style scoped>\n",
       "    .dataframe tbody tr th:only-of-type {\n",
       "        vertical-align: middle;\n",
       "    }\n",
       "\n",
       "    .dataframe tbody tr th {\n",
       "        vertical-align: top;\n",
       "    }\n",
       "\n",
       "    .dataframe thead th {\n",
       "        text-align: right;\n",
       "    }\n",
       "</style>\n",
       "<table border=\"1\" class=\"dataframe\">\n",
       "  <thead>\n",
       "    <tr style=\"text-align: right;\">\n",
       "      <th></th>\n",
       "      <th>Filename</th>\n",
       "      <th>Predictions</th>\n",
       "    </tr>\n",
       "  </thead>\n",
       "  <tbody>\n",
       "    <tr>\n",
       "      <th>0</th>\n",
       "      <td>0\\00243.png</td>\n",
       "      <td>0</td>\n",
       "    </tr>\n",
       "    <tr>\n",
       "      <th>1</th>\n",
       "      <td>0\\00252.png</td>\n",
       "      <td>0</td>\n",
       "    </tr>\n",
       "    <tr>\n",
       "      <th>2</th>\n",
       "      <td>0\\00403.png</td>\n",
       "      <td>0</td>\n",
       "    </tr>\n",
       "    <tr>\n",
       "      <th>3</th>\n",
       "      <td>0\\00579.png</td>\n",
       "      <td>0</td>\n",
       "    </tr>\n",
       "    <tr>\n",
       "      <th>4</th>\n",
       "      <td>0\\00675.png</td>\n",
       "      <td>0</td>\n",
       "    </tr>\n",
       "    <tr>\n",
       "      <th>...</th>\n",
       "      <td>...</td>\n",
       "      <td>...</td>\n",
       "    </tr>\n",
       "    <tr>\n",
       "      <th>12625</th>\n",
       "      <td>42\\11842.png</td>\n",
       "      <td>42</td>\n",
       "    </tr>\n",
       "    <tr>\n",
       "      <th>12626</th>\n",
       "      <td>42\\12019.png</td>\n",
       "      <td>42</td>\n",
       "    </tr>\n",
       "    <tr>\n",
       "      <th>12627</th>\n",
       "      <td>42\\12098.png</td>\n",
       "      <td>42</td>\n",
       "    </tr>\n",
       "    <tr>\n",
       "      <th>12628</th>\n",
       "      <td>42\\12276.png</td>\n",
       "      <td>42</td>\n",
       "    </tr>\n",
       "    <tr>\n",
       "      <th>12629</th>\n",
       "      <td>42\\12502.png</td>\n",
       "      <td>42</td>\n",
       "    </tr>\n",
       "  </tbody>\n",
       "</table>\n",
       "<p>12630 rows × 2 columns</p>\n",
       "</div>"
      ],
      "text/plain": [
       "           Filename  Predictions\n",
       "0       0\\00243.png            0\n",
       "1       0\\00252.png            0\n",
       "2       0\\00403.png            0\n",
       "3       0\\00579.png            0\n",
       "4       0\\00675.png            0\n",
       "...             ...          ...\n",
       "12625  42\\11842.png           42\n",
       "12626  42\\12019.png           42\n",
       "12627  42\\12098.png           42\n",
       "12628  42\\12276.png           42\n",
       "12629  42\\12502.png           42\n",
       "\n",
       "[12630 rows x 2 columns]"
      ]
     },
     "execution_count": 103,
     "metadata": {},
     "output_type": "execute_result"
    }
   ],
   "source": [
    "results"
   ]
  },
  {
   "cell_type": "code",
   "execution_count": null,
   "id": "9bfbefc3",
   "metadata": {},
   "outputs": [],
   "source": []
  }
 ],
 "metadata": {
  "kernelspec": {
   "display_name": "Python 3 (ipykernel)",
   "language": "python",
   "name": "python3"
  },
  "language_info": {
   "codemirror_mode": {
    "name": "ipython",
    "version": 3
   },
   "file_extension": ".py",
   "mimetype": "text/x-python",
   "name": "python",
   "nbconvert_exporter": "python",
   "pygments_lexer": "ipython3",
   "version": "3.9.7"
  }
 },
 "nbformat": 4,
 "nbformat_minor": 5
}
