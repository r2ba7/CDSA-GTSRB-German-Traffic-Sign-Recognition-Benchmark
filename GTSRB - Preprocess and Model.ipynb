{
 "cells": [
  {
   "cell_type": "code",
   "execution_count": 1,
   "id": "5467d6d7",
   "metadata": {},
   "outputs": [
    {
     "name": "stdout",
     "output_type": "stream",
     "text": [
      "Num GPUs Available:  1\n"
     ]
    }
   ],
   "source": [
    "import numpy as np\n",
    "import matplotlib.pyplot as plt\n",
    "import os\n",
    "import shutil\n",
    "\n",
    "import tensorflow as tf\n",
    "print(\"Num GPUs Available: \", len(tf.config.list_physical_devices('GPU')))\n",
    "from tensorflow.keras.preprocessing.image import ImageDataGenerator\n",
    "from tensorflow.keras.models import Sequential\n",
    "from tensorflow.keras.layers import Dense, Dropout, Activation, Flatten\n",
    "from tensorflow.keras.layers import Conv2D, MaxPooling2D"
   ]
  },
  {
   "cell_type": "markdown",
   "id": "30298ed6",
   "metadata": {},
   "source": [
    "# Preprocessing."
   ]
  },
  {
   "cell_type": "code",
   "execution_count": 2,
   "id": "574a631b",
   "metadata": {},
   "outputs": [],
   "source": [
    "seed = 42\n",
    "np.random.seed(seed)"
   ]
  },
  {
   "cell_type": "code",
   "execution_count": 3,
   "id": "6a041100",
   "metadata": {},
   "outputs": [
    {
     "name": "stdout",
     "output_type": "stream",
     "text": [
      "Already Created\n"
     ]
    }
   ],
   "source": [
    "root_dir = 'Datasets/GTSRB - German Traffic Sign Recognition Benchmark/'\n",
    "directory = 'Datasets/GTSRB - German Traffic Sign Recognition Benchmark/Train/'\n",
    "try:\n",
    "    os.makedirs('Datasets/GTSRB - German Traffic Sign Recognition Benchmark/Working/Train')\n",
    "    os.makedirs('Datasets/GTSRB - German Traffic Sign Recognition Benchmark/Working/Valid/')\n",
    "except:\n",
    "    print('Already Created')"
   ]
  },
  {
   "cell_type": "code",
   "execution_count": 4,
   "id": "7d484a16",
   "metadata": {},
   "outputs": [
    {
     "name": "stdout",
     "output_type": "stream",
     "text": [
      "['0', '1', '10', '11', '12', '13', '14', '15', '16', '17', '18', '19', '2', '20', '21', '22', '23', '24', '25', '26', '27', '28', '29', '3', '30', '31', '32', '33', '34', '35', '36', '37', '38', '39', '4', '40', '41', '42', '5', '6', '7', '8', '9'],\n",
      " number: 43\n"
     ]
    }
   ],
   "source": [
    "classes = os.listdir(directory)\n",
    "num_classes = len(classes)\n",
    "print(f'{classes},\\n number: {num_classes}')"
   ]
  },
  {
   "cell_type": "code",
   "execution_count": 5,
   "id": "79294820",
   "metadata": {},
   "outputs": [
    {
     "name": "stdout",
     "output_type": "stream",
     "text": [
      "['Datasets/GTSRB - German Traffic Sign Recognition Benchmark/Train/0', 'Datasets/GTSRB - German Traffic Sign Recognition Benchmark/Train/1', 'Datasets/GTSRB - German Traffic Sign Recognition Benchmark/Train/10', 'Datasets/GTSRB - German Traffic Sign Recognition Benchmark/Train/11', 'Datasets/GTSRB - German Traffic Sign Recognition Benchmark/Train/12', 'Datasets/GTSRB - German Traffic Sign Recognition Benchmark/Train/13', 'Datasets/GTSRB - German Traffic Sign Recognition Benchmark/Train/14', 'Datasets/GTSRB - German Traffic Sign Recognition Benchmark/Train/15', 'Datasets/GTSRB - German Traffic Sign Recognition Benchmark/Train/16', 'Datasets/GTSRB - German Traffic Sign Recognition Benchmark/Train/17', 'Datasets/GTSRB - German Traffic Sign Recognition Benchmark/Train/18', 'Datasets/GTSRB - German Traffic Sign Recognition Benchmark/Train/19', 'Datasets/GTSRB - German Traffic Sign Recognition Benchmark/Train/2', 'Datasets/GTSRB - German Traffic Sign Recognition Benchmark/Train/20', 'Datasets/GTSRB - German Traffic Sign Recognition Benchmark/Train/21', 'Datasets/GTSRB - German Traffic Sign Recognition Benchmark/Train/22', 'Datasets/GTSRB - German Traffic Sign Recognition Benchmark/Train/23', 'Datasets/GTSRB - German Traffic Sign Recognition Benchmark/Train/24', 'Datasets/GTSRB - German Traffic Sign Recognition Benchmark/Train/25', 'Datasets/GTSRB - German Traffic Sign Recognition Benchmark/Train/26', 'Datasets/GTSRB - German Traffic Sign Recognition Benchmark/Train/27', 'Datasets/GTSRB - German Traffic Sign Recognition Benchmark/Train/28', 'Datasets/GTSRB - German Traffic Sign Recognition Benchmark/Train/29', 'Datasets/GTSRB - German Traffic Sign Recognition Benchmark/Train/3', 'Datasets/GTSRB - German Traffic Sign Recognition Benchmark/Train/30', 'Datasets/GTSRB - German Traffic Sign Recognition Benchmark/Train/31', 'Datasets/GTSRB - German Traffic Sign Recognition Benchmark/Train/32', 'Datasets/GTSRB - German Traffic Sign Recognition Benchmark/Train/33', 'Datasets/GTSRB - German Traffic Sign Recognition Benchmark/Train/34', 'Datasets/GTSRB - German Traffic Sign Recognition Benchmark/Train/35', 'Datasets/GTSRB - German Traffic Sign Recognition Benchmark/Train/36', 'Datasets/GTSRB - German Traffic Sign Recognition Benchmark/Train/37', 'Datasets/GTSRB - German Traffic Sign Recognition Benchmark/Train/38', 'Datasets/GTSRB - German Traffic Sign Recognition Benchmark/Train/39', 'Datasets/GTSRB - German Traffic Sign Recognition Benchmark/Train/4', 'Datasets/GTSRB - German Traffic Sign Recognition Benchmark/Train/40', 'Datasets/GTSRB - German Traffic Sign Recognition Benchmark/Train/41', 'Datasets/GTSRB - German Traffic Sign Recognition Benchmark/Train/42', 'Datasets/GTSRB - German Traffic Sign Recognition Benchmark/Train/5', 'Datasets/GTSRB - German Traffic Sign Recognition Benchmark/Train/6', 'Datasets/GTSRB - German Traffic Sign Recognition Benchmark/Train/7', 'Datasets/GTSRB - German Traffic Sign Recognition Benchmark/Train/8', 'Datasets/GTSRB - German Traffic Sign Recognition Benchmark/Train/9']\n"
     ]
    }
   ],
   "source": [
    "source_path=[directory +f'{a}' for a in classes]\n",
    "print(source_path)"
   ]
  },
  {
   "cell_type": "code",
   "execution_count": 6,
   "id": "36329013",
   "metadata": {},
   "outputs": [
    {
     "data": {
      "text/plain": [
       "['0_dir',\n",
       " '1_dir',\n",
       " '10_dir',\n",
       " '11_dir',\n",
       " '12_dir',\n",
       " '13_dir',\n",
       " '14_dir',\n",
       " '15_dir',\n",
       " '16_dir',\n",
       " '17_dir',\n",
       " '18_dir',\n",
       " '19_dir',\n",
       " '2_dir',\n",
       " '20_dir',\n",
       " '21_dir',\n",
       " '22_dir',\n",
       " '23_dir',\n",
       " '24_dir',\n",
       " '25_dir',\n",
       " '26_dir',\n",
       " '27_dir',\n",
       " '28_dir',\n",
       " '29_dir',\n",
       " '3_dir',\n",
       " '30_dir',\n",
       " '31_dir',\n",
       " '32_dir',\n",
       " '33_dir',\n",
       " '34_dir',\n",
       " '35_dir',\n",
       " '36_dir',\n",
       " '37_dir',\n",
       " '38_dir',\n",
       " '39_dir',\n",
       " '4_dir',\n",
       " '40_dir',\n",
       " '41_dir',\n",
       " '42_dir',\n",
       " '5_dir',\n",
       " '6_dir',\n",
       " '7_dir',\n",
       " '8_dir',\n",
       " '9_dir']"
      ]
     },
     "execution_count": 6,
     "metadata": {},
     "output_type": "execute_result"
    }
   ],
   "source": [
    "classes_dir=[f'{a}_dir' for a in classes]\n",
    "classes_dir"
   ]
  },
  {
   "cell_type": "code",
   "execution_count": 7,
   "id": "38957069",
   "metadata": {},
   "outputs": [
    {
     "name": "stdout",
     "output_type": "stream",
     "text": [
      "0_dir :  210\n",
      "1_dir :  2220\n",
      "10_dir :  2010\n",
      "11_dir :  1320\n",
      "12_dir :  2100\n",
      "13_dir :  2160\n",
      "14_dir :  780\n",
      "15_dir :  630\n",
      "16_dir :  420\n",
      "17_dir :  1110\n",
      "18_dir :  1200\n",
      "19_dir :  210\n",
      "2_dir :  2250\n",
      "20_dir :  360\n",
      "21_dir :  330\n",
      "22_dir :  390\n",
      "23_dir :  510\n",
      "24_dir :  270\n",
      "25_dir :  1500\n",
      "26_dir :  600\n",
      "27_dir :  240\n",
      "28_dir :  540\n",
      "29_dir :  270\n",
      "3_dir :  1410\n",
      "30_dir :  450\n",
      "31_dir :  780\n",
      "32_dir :  240\n",
      "33_dir :  689\n",
      "34_dir :  420\n",
      "35_dir :  1200\n",
      "36_dir :  390\n",
      "37_dir :  210\n",
      "38_dir :  2070\n",
      "39_dir :  300\n",
      "4_dir :  1980\n",
      "40_dir :  360\n",
      "41_dir :  240\n",
      "42_dir :  240\n",
      "5_dir :  1860\n",
      "6_dir :  420\n",
      "7_dir :  1440\n",
      "8_dir :  1410\n",
      "9_dir :  1470\n"
     ]
    }
   ],
   "source": [
    "for cl_dir,cl_path in zip(classes_dir,source_path):\n",
    "    print(cl_dir,': ',len(os.listdir(cl_path)))"
   ]
  },
  {
   "cell_type": "code",
   "execution_count": 8,
   "id": "8e41c356",
   "metadata": {},
   "outputs": [],
   "source": [
    "train = 'Datasets/GTSRB - German Traffic Sign Recognition Benchmark/Working/Train'\n",
    "valid = 'Datasets/GTSRB - German Traffic Sign Recognition Benchmark/Working/Valid'"
   ]
  },
  {
   "cell_type": "code",
   "execution_count": 9,
   "id": "ec9583f8",
   "metadata": {},
   "outputs": [],
   "source": [
    "import glob\n",
    "from sklearn.model_selection import train_test_split\n",
    "\n",
    "def split(data_path, train, validation, split_size=0.1):\n",
    "    folders = os.listdir(data_path)\n",
    "    for folder in folders:\n",
    "        fullpath = os.path.join(data_path, folder)\n",
    "        image = glob.glob(os.path.join(fullpath,'*.png'))\n",
    "       \n",
    "        X_train, X_valid = train_test_split(image, test_size = split_size)\n",
    "       \n",
    "        for x in X_train:\n",
    "         #   print(x)\n",
    "            path_to_folder = os.path.join(train,folder)\n",
    "           \n",
    "            if not os.path.isdir(path_to_folder):\n",
    "                os.makedirs(path_to_folder)\n",
    "            shutil.copy(x,path_to_folder)\n",
    "       \n",
    "        for y in X_valid:\n",
    "            path_to_folder = os.path.join(validation, folder)\n",
    "            if not os.path.isdir(path_to_folder):\n",
    "                os.makedirs(path_to_folder)\n",
    "            shutil.copy(y, path_to_folder)"
   ]
  },
  {
   "cell_type": "code",
   "execution_count": 10,
   "id": "a966d615",
   "metadata": {},
   "outputs": [],
   "source": [
    "#Commented to not run again\n",
    "#split(directory, train=train,validation=valid,split_size = 0.2)"
   ]
  },
  {
   "cell_type": "code",
   "execution_count": 11,
   "id": "2a9c5478",
   "metadata": {},
   "outputs": [
    {
     "data": {
      "text/html": [
       "<div>\n",
       "<style scoped>\n",
       "    .dataframe tbody tr th:only-of-type {\n",
       "        vertical-align: middle;\n",
       "    }\n",
       "\n",
       "    .dataframe tbody tr th {\n",
       "        vertical-align: top;\n",
       "    }\n",
       "\n",
       "    .dataframe thead th {\n",
       "        text-align: right;\n",
       "    }\n",
       "</style>\n",
       "<table border=\"1\" class=\"dataframe\">\n",
       "  <thead>\n",
       "    <tr style=\"text-align: right;\">\n",
       "      <th></th>\n",
       "      <th>Width</th>\n",
       "      <th>Height</th>\n",
       "      <th>Roi.X1</th>\n",
       "      <th>Roi.Y1</th>\n",
       "      <th>Roi.X2</th>\n",
       "      <th>Roi.Y2</th>\n",
       "      <th>ClassId</th>\n",
       "      <th>Path</th>\n",
       "    </tr>\n",
       "  </thead>\n",
       "  <tbody>\n",
       "    <tr>\n",
       "      <th>0</th>\n",
       "      <td>53</td>\n",
       "      <td>54</td>\n",
       "      <td>6</td>\n",
       "      <td>5</td>\n",
       "      <td>48</td>\n",
       "      <td>49</td>\n",
       "      <td>16</td>\n",
       "      <td>Test/00000.png</td>\n",
       "    </tr>\n",
       "    <tr>\n",
       "      <th>1</th>\n",
       "      <td>42</td>\n",
       "      <td>45</td>\n",
       "      <td>5</td>\n",
       "      <td>5</td>\n",
       "      <td>36</td>\n",
       "      <td>40</td>\n",
       "      <td>1</td>\n",
       "      <td>Test/00001.png</td>\n",
       "    </tr>\n",
       "    <tr>\n",
       "      <th>2</th>\n",
       "      <td>48</td>\n",
       "      <td>52</td>\n",
       "      <td>6</td>\n",
       "      <td>6</td>\n",
       "      <td>43</td>\n",
       "      <td>47</td>\n",
       "      <td>38</td>\n",
       "      <td>Test/00002.png</td>\n",
       "    </tr>\n",
       "    <tr>\n",
       "      <th>3</th>\n",
       "      <td>27</td>\n",
       "      <td>29</td>\n",
       "      <td>5</td>\n",
       "      <td>5</td>\n",
       "      <td>22</td>\n",
       "      <td>24</td>\n",
       "      <td>33</td>\n",
       "      <td>Test/00003.png</td>\n",
       "    </tr>\n",
       "    <tr>\n",
       "      <th>4</th>\n",
       "      <td>60</td>\n",
       "      <td>57</td>\n",
       "      <td>5</td>\n",
       "      <td>5</td>\n",
       "      <td>55</td>\n",
       "      <td>52</td>\n",
       "      <td>11</td>\n",
       "      <td>Test/00004.png</td>\n",
       "    </tr>\n",
       "  </tbody>\n",
       "</table>\n",
       "</div>"
      ],
      "text/plain": [
       "   Width  Height  Roi.X1  Roi.Y1  Roi.X2  Roi.Y2  ClassId            Path\n",
       "0     53      54       6       5      48      49       16  Test/00000.png\n",
       "1     42      45       5       5      36      40        1  Test/00001.png\n",
       "2     48      52       6       6      43      47       38  Test/00002.png\n",
       "3     27      29       5       5      22      24       33  Test/00003.png\n",
       "4     60      57       5       5      55      52       11  Test/00004.png"
      ]
     },
     "execution_count": 11,
     "metadata": {},
     "output_type": "execute_result"
    }
   ],
   "source": [
    "import pandas as pd\n",
    "\n",
    "df = pd.read_csv(\"Datasets/GTSRB - German Traffic Sign Recognition Benchmark/Test.csv\")\n",
    "df.head()"
   ]
  },
  {
   "cell_type": "code",
   "execution_count": 12,
   "id": "7f3989d1",
   "metadata": {},
   "outputs": [],
   "source": [
    "target = df['ClassId']"
   ]
  },
  {
   "cell_type": "code",
   "execution_count": 13,
   "id": "b0813c06",
   "metadata": {},
   "outputs": [
    {
     "name": "stdout",
     "output_type": "stream",
     "text": [
      "Already Created\n"
     ]
    }
   ],
   "source": [
    "try:\n",
    "    os.makedirs('Datasets/GTSRB - German Traffic Sign Recognition Benchmark/Working/Test/')\n",
    "except:\n",
    "    print('Already Created')"
   ]
  },
  {
   "cell_type": "code",
   "execution_count": 14,
   "id": "137a1af6",
   "metadata": {},
   "outputs": [],
   "source": [
    "test = 'Datasets/GTSRB - German Traffic Sign Recognition Benchmark/Working/Test/'"
   ]
  },
  {
   "cell_type": "code",
   "execution_count": 15,
   "id": "74a7446e",
   "metadata": {},
   "outputs": [
    {
     "data": {
      "text/plain": [
       "'Datasets/GTSRB - German Traffic Sign Recognition Benchmark/'"
      ]
     },
     "execution_count": 15,
     "metadata": {},
     "output_type": "execute_result"
    }
   ],
   "source": [
    "root_dir"
   ]
  },
  {
   "cell_type": "code",
   "execution_count": 16,
   "id": "eef4df6a",
   "metadata": {},
   "outputs": [],
   "source": [
    "def prepare_test(csv_path, src, dst):\n",
    "    with open(csv_path, \"r\") as f:\n",
    "        next(f)\n",
    "        for line in f:\n",
    "            split_line = line.split(',')\n",
    "            image = split_line[-1][:-1]\n",
    "            label = split_line[-2]\n",
    "            #print(image, label)\n",
    "            destination = dst + label\n",
    "            if not os.path.isdir(destination):\n",
    "                os.makedirs(destination)\n",
    "            shutil.copy(src + image,destination)"
   ]
  },
  {
   "cell_type": "code",
   "execution_count": 17,
   "id": "82f6adb4",
   "metadata": {},
   "outputs": [],
   "source": [
    "csv_path = \"Datasets/GTSRB - German Traffic Sign Recognition Benchmark/Test.csv\"\n",
    "src = root_dir\n",
    "dst = test\n",
    "#Commented to not run again\n",
    "#prepare_test(csv_path, src, dst)"
   ]
  },
  {
   "cell_type": "markdown",
   "id": "a29cf38c",
   "metadata": {},
   "source": [
    "# Modeling"
   ]
  },
  {
   "cell_type": "code",
   "execution_count": 18,
   "id": "a5e56110",
   "metadata": {},
   "outputs": [],
   "source": [
    "import tensorflow as tf\n",
    "from tensorflow.keras.layers import Conv2D, Input, Dense, MaxPool2D, MaxPooling2D, Flatten, BatchNormalization, GlobalAvgPool2D, Dropout, AveragePooling2D\n",
    "from tensorflow.keras.preprocessing.image import ImageDataGenerator\n",
    "from tensorflow.keras.callbacks import ModelCheckpoint\n",
    "\n",
    "from tensorflow.keras import Model"
   ]
  },
  {
   "cell_type": "code",
   "execution_count": 327,
   "id": "d4f21d12",
   "metadata": {},
   "outputs": [],
   "source": [
    "width, height = 60, 60\n",
    "batch_size = 64\n",
    "# num_classes"
   ]
  },
  {
   "cell_type": "code",
   "execution_count": 328,
   "id": "974615f9",
   "metadata": {},
   "outputs": [],
   "source": [
    "classes_indices = ['0',\n",
    " '1',\n",
    " '2',\n",
    " '3',\n",
    " '4',\n",
    " '5',\n",
    " '6',\n",
    " '7',\n",
    " '8',\n",
    " '9',\n",
    " '10',\n",
    " '11',\n",
    " '12',\n",
    " '13',\n",
    " '14',\n",
    " '15',\n",
    " '16',\n",
    " '17',\n",
    " '18',\n",
    " '19',\n",
    " '20',\n",
    " '21',\n",
    " '22',\n",
    " '23',\n",
    " '24',\n",
    " '25',\n",
    " '26',\n",
    " '27',\n",
    " '28',\n",
    " '29',\n",
    " '30',\n",
    " '31',\n",
    " '32',\n",
    " '33',\n",
    " '34',\n",
    " '35',\n",
    " '36',\n",
    " '37',\n",
    " '38',\n",
    " '39',\n",
    " '40',\n",
    " '41',\n",
    " '42']"
   ]
  },
  {
   "cell_type": "code",
   "execution_count": 329,
   "id": "0092b013",
   "metadata": {},
   "outputs": [
    {
     "name": "stdout",
     "output_type": "stream",
     "text": [
      "Found 31367 images belonging to 43 classes.\n",
      "Found 7842 images belonging to 43 classes.\n",
      "Found 12630 images belonging to 43 classes.\n"
     ]
    }
   ],
   "source": [
    "train_generator = ImageDataGenerator(\n",
    "#     featurewise_center=True,\n",
    "#     featurewise_std_normalization=True,\n",
    "#     width_shift_range=0.2,\n",
    "#     height_shift_range=0.2,\n",
    "    rescale=1/255,\n",
    "    data_format='channels_last',\n",
    "    dtype=tf.float32)\n",
    "\n",
    "train_generator = train_generator.flow_from_directory(\n",
    "    directory=train,\n",
    "    target_size=(height, width),\n",
    "    color_mode=\"rgb\",\n",
    "    batch_size=batch_size,\n",
    "    class_mode=\"categorical\",\n",
    "    shuffle=True,\n",
    "    seed=42,\n",
    "    classes=classes_indices \n",
    ")\n",
    "\n",
    "valid_generator = ImageDataGenerator(rescale=1/255, dtype=tf.float32)\n",
    "valid_generator = valid_generator.flow_from_directory(\n",
    "    directory=valid,\n",
    "    target_size=(height, width),\n",
    "    color_mode=\"rgb\",\n",
    "    batch_size=batch_size,\n",
    "    class_mode=\"categorical\",\n",
    "    shuffle=True,\n",
    "    seed=42,\n",
    "    classes=classes_indices \n",
    ")\n",
    "\n",
    "test_generator = ImageDataGenerator(rescale=1/255, dtype=tf.float32)\n",
    "test_generator = test_generator.flow_from_directory(\n",
    "    directory=test,\n",
    "    target_size=(height, width),\n",
    "    color_mode=\"rgb\",\n",
    "    batch_size=batch_size,\n",
    "    class_mode=\"categorical\",\n",
    "    shuffle=False,\n",
    "    classes=classes_indices \n",
    ")"
   ]
  },
  {
   "cell_type": "code",
   "execution_count": 266,
   "id": "1ae26eb5",
   "metadata": {},
   "outputs": [],
   "source": [
    "# Lets setup a default layer, \n",
    "import tensorflow\n",
    "\n",
    "class ConvBlock(tensorflow.keras.layers.Layer):\n",
    "    def __init__(self, channels):\n",
    "        super().__init__()\n",
    "        self.channels = channels\n",
    "        \n",
    "    def build(self, input_shape):\n",
    "        self.main_layers=[\n",
    "            Conv2D(self.channels[0], 3, padding=\"same\", activation='relu', input_shape=input_shape),\n",
    "            Conv2D(self.channels[0], 3, padding=\"same\", activation='relu'),\n",
    "            MaxPooling2D(2),\n",
    "            Dropout(0.2),\n",
    "            Conv2D(self.channels[1], 3, padding=\"same\", activation='relu'),\n",
    "            Conv2D(self.channels[1], 3, padding=\"same\", activation='relu'),\n",
    "            MaxPooling2D(2),\n",
    "            Dropout(0.3),\n",
    "            Conv2D(self.channels[2], 3, padding=\"same\", activation='relu'),\n",
    "            Conv2D(self.channels[2], 3, padding=\"same\", activation='relu'),\n",
    "            MaxPooling2D(2),\n",
    "            Dropout(0.3)\n",
    "        ]\n",
    "\n",
    "    def call(self, inputs):\n",
    "        x = inputs\n",
    "        for layer in self.main_layers:\n",
    "            x = layer(x)\n",
    "        return x"
   ]
  },
  {
   "cell_type": "code",
   "execution_count": 292,
   "id": "bf619dbe",
   "metadata": {},
   "outputs": [],
   "source": [
    "class FullModel(tensorflow.keras.Model):\n",
    "    def __init__(self, channels, num_classes=43):\n",
    "        super().__init__()\n",
    "        self.conv_block = ConvBlock(channels)\n",
    "        self.drop = Dropout(0.3)\n",
    "        self.dense1 = Dense(512, activation = 'relu')\n",
    "        self.dense2 = Dense(256, activation = 'relu')\n",
    "        self.global_pool = GlobalAvgPool2D()\n",
    "        self.classifier = Dense(num_classes, activation='softmax')\n",
    "        self.flat = Flatten()\n",
    "        self.conv_layer = Conv2D(256, 3, activation='relu', padding=\"valid\")\n",
    "        self.BN = BatchNormalization()\n",
    "        self.pool = MaxPooling2D()\n",
    "        \n",
    "    def call(self, inputs):\n",
    "        x = self.conv_block(inputs)\n",
    "        x = self.flat(x)\n",
    "        x = self.dense1(x)\n",
    "        x = self.drop(x)\n",
    "        x = self.dense2(x)\n",
    "        return self.classifier(x)\n",
    "    \n",
    "    def summary(self):\n",
    "        x = Input(shape=(60, 60, 3))\n",
    "        model = Model(inputs=[x], outputs=self.call(x))\n",
    "        return model.summary()"
   ]
  },
  {
   "cell_type": "code",
   "execution_count": 293,
   "id": "acda6fbe",
   "metadata": {},
   "outputs": [],
   "source": [
    "channels = [32, 64, 128]\n",
    "model = FullModel(channels, num_classes)"
   ]
  },
  {
   "cell_type": "code",
   "execution_count": 294,
   "id": "2493eb56",
   "metadata": {},
   "outputs": [],
   "source": [
    "loss = tensorflow.keras.losses.CategoricalCrossentropy()\n",
    "\n",
    "model.compile(optimizer='adam',\n",
    "    loss=loss,\n",
    "    metrics=['accuracy'])"
   ]
  },
  {
   "cell_type": "code",
   "execution_count": 295,
   "id": "1452800f",
   "metadata": {},
   "outputs": [],
   "source": [
    "import warnings\n",
    "warnings.filterwarnings('ignore')\n",
    "\n",
    "tf.keras.backend.clear_session()"
   ]
  },
  {
   "cell_type": "code",
   "execution_count": 296,
   "id": "fdf4a8f9",
   "metadata": {},
   "outputs": [
    {
     "name": "stdout",
     "output_type": "stream",
     "text": [
      "Model: \"model\"\n",
      "_________________________________________________________________\n",
      "Layer (type)                 Output Shape              Param #   \n",
      "=================================================================\n",
      "input_1 (InputLayer)         [(None, 60, 60, 3)]       0         \n",
      "_________________________________________________________________\n",
      "conv_block (ConvBlock)       (None, 7, 7, 128)         287008    \n",
      "_________________________________________________________________\n",
      "flatten (Flatten)            (None, 6272)              0         \n",
      "_________________________________________________________________\n",
      "dense (Dense)                (None, 512)               3211776   \n",
      "_________________________________________________________________\n",
      "dropout (Dropout)            (None, 512)               0         \n",
      "_________________________________________________________________\n",
      "dense_1 (Dense)              (None, 256)               131328    \n",
      "_________________________________________________________________\n",
      "dense_2 (Dense)              (None, 43)                11051     \n",
      "=================================================================\n",
      "Total params: 3,641,163\n",
      "Trainable params: 3,641,163\n",
      "Non-trainable params: 0\n",
      "_________________________________________________________________\n"
     ]
    }
   ],
   "source": [
    "model.summary()"
   ]
  },
  {
   "cell_type": "code",
   "execution_count": 297,
   "id": "c31d1e34",
   "metadata": {
    "scrolled": false
   },
   "outputs": [
    {
     "name": "stdout",
     "output_type": "stream",
     "text": [
      "Epoch 1/15\n",
      "490/490 [==============================] - 27s 53ms/step - loss: 1.9053 - accuracy: 0.4414 - val_loss: 0.3285 - val_accuracy: 0.9068\n",
      "Epoch 2/15\n",
      "490/490 [==============================] - 25s 52ms/step - loss: 0.2608 - accuracy: 0.9162 - val_loss: 0.0820 - val_accuracy: 0.9766\n",
      "Epoch 3/15\n",
      "490/490 [==============================] - 26s 52ms/step - loss: 0.1199 - accuracy: 0.9620 - val_loss: 0.0435 - val_accuracy: 0.9867\n",
      "Epoch 4/15\n",
      "490/490 [==============================] - 26s 54ms/step - loss: 0.0849 - accuracy: 0.9741 - val_loss: 0.0321 - val_accuracy: 0.9907\n",
      "Epoch 5/15\n",
      "490/490 [==============================] - 26s 54ms/step - loss: 0.0679 - accuracy: 0.9800 - val_loss: 0.0301 - val_accuracy: 0.9922\n",
      "Epoch 6/15\n",
      "490/490 [==============================] - 26s 54ms/step - loss: 0.0564 - accuracy: 0.9827 - val_loss: 0.0236 - val_accuracy: 0.9945\n",
      "Epoch 7/15\n",
      "490/490 [==============================] - 26s 54ms/step - loss: 0.0504 - accuracy: 0.9851 - val_loss: 0.0231 - val_accuracy: 0.9936\n",
      "Epoch 8/15\n",
      "490/490 [==============================] - 27s 56ms/step - loss: 0.0420 - accuracy: 0.9867 - val_loss: 0.0309 - val_accuracy: 0.9927\n",
      "Epoch 9/15\n",
      "490/490 [==============================] - 28s 58ms/step - loss: 0.0469 - accuracy: 0.9853 - val_loss: 0.0219 - val_accuracy: 0.9955\n",
      "Epoch 10/15\n",
      "490/490 [==============================] - 27s 55ms/step - loss: 0.0331 - accuracy: 0.9898 - val_loss: 0.0319 - val_accuracy: 0.9932\n",
      "Epoch 11/15\n",
      "490/490 [==============================] - 27s 55ms/step - loss: 0.0401 - accuracy: 0.9886 - val_loss: 0.0361 - val_accuracy: 0.9949\n",
      "Epoch 12/15\n",
      "490/490 [==============================] - 27s 55ms/step - loss: 0.0348 - accuracy: 0.9906 - val_loss: 0.0406 - val_accuracy: 0.9900\n",
      "Epoch 13/15\n",
      "490/490 [==============================] - 28s 58ms/step - loss: 0.0391 - accuracy: 0.9890 - val_loss: 0.0200 - val_accuracy: 0.9951\n",
      "Epoch 14/15\n",
      "490/490 [==============================] - 27s 56ms/step - loss: 0.0346 - accuracy: 0.9905 - val_loss: 0.0220 - val_accuracy: 0.9954\n",
      "Epoch 15/15\n",
      "490/490 [==============================] - 28s 57ms/step - loss: 0.0347 - accuracy: 0.9904 - val_loss: 0.0209 - val_accuracy: 0.9949\n"
     ]
    }
   ],
   "source": [
    "STEP_SIZE_TRAIN=train_generator.n//train_generator.batch_size\n",
    "STEP_SIZE_VALID=valid_generator.n//valid_generator.batch_size\n",
    "cb = [tensorflow.keras.callbacks.EarlyStopping(patience=5)]\n",
    "history = model.fit_generator(generator=train_generator,\n",
    "                    steps_per_epoch=STEP_SIZE_TRAIN,\n",
    "                    validation_data=valid_generator,\n",
    "                    validation_steps=STEP_SIZE_VALID,\n",
    "                    epochs=15,\n",
    "                    callbacks=cb\n",
    ")"
   ]
  },
  {
   "cell_type": "code",
   "execution_count": 298,
   "id": "e5eab7eb",
   "metadata": {},
   "outputs": [
    {
     "name": "stdout",
     "output_type": "stream",
     "text": [
      "122/122 [==============================] - 5s 41ms/step - loss: 0.0209 - accuracy: 0.9949\n"
     ]
    },
    {
     "data": {
      "text/plain": [
       "[0.020854052156209946, 0.9948770403862]"
      ]
     },
     "execution_count": 298,
     "metadata": {},
     "output_type": "execute_result"
    }
   ],
   "source": [
    "model.evaluate_generator(valid_generator,\n",
    "                             steps=STEP_SIZE_VALID,\n",
    "                             verbose=1)"
   ]
  },
  {
   "cell_type": "code",
   "execution_count": 299,
   "id": "e1977168",
   "metadata": {},
   "outputs": [
    {
     "name": "stdout",
     "output_type": "stream",
     "text": [
      "197/197 [==============================] - 8s 41ms/step - loss: 0.1211 - accuracy: 0.9734\n"
     ]
    },
    {
     "data": {
      "text/plain": [
       "[0.12111938744783401, 0.9733502268791199]"
      ]
     },
     "execution_count": 299,
     "metadata": {},
     "output_type": "execute_result"
    }
   ],
   "source": [
    "STEP_SIZE_TEST=test_generator.n//test_generator.batch_size\n",
    "test_generator.reset()\n",
    "model.evaluate_generator(test_generator,\n",
    "                             steps=STEP_SIZE_TEST,\n",
    "                             verbose=1)"
   ]
  },
  {
   "cell_type": "code",
   "execution_count": 300,
   "id": "8c5209f6",
   "metadata": {},
   "outputs": [],
   "source": [
    "test_generator.reset()\n",
    "Y_pred = model.predict_generator(test_generator)\n",
    "y_pred2 = model.predict(test_generator)\n",
    "y_pred = np.argmax(Y_pred, axis=1)\n",
    "y_pred2 = np.argmax(y_pred2, axis=1)"
   ]
  },
  {
   "cell_type": "code",
   "execution_count": 301,
   "id": "d5c6c269",
   "metadata": {},
   "outputs": [
    {
     "data": {
      "image/png": "[encoded data removed]",
      "text/plain": [
       "<Figure size 576x360 with 1 Axes>"
      ]
     },
     "metadata": {
      "needs_background": "light"
     },
     "output_type": "display_data"
    }
   ],
   "source": [
    "import matplotlib.pyplot as plt\n",
    "%matplotlib inline\n",
    "\n",
    "pd.DataFrame(history.history).plot(figsize=(8,5))\n",
    "plt.show()"
   ]
  },
  {
   "cell_type": "code",
   "execution_count": 302,
   "id": "037ec512",
   "metadata": {},
   "outputs": [
    {
     "data": {
      "text/plain": [
       "array([ 0,  0,  0, ..., 42, 41, 42], dtype=int64)"
      ]
     },
     "execution_count": 302,
     "metadata": {},
     "output_type": "execute_result"
    }
   ],
   "source": [
    "y_pred"
   ]
  },
  {
   "cell_type": "code",
   "execution_count": 303,
   "id": "d8bd325a",
   "metadata": {},
   "outputs": [
    {
     "data": {
      "text/plain": [
       "array([ 0,  0,  0, ..., 42, 41, 42], dtype=int64)"
      ]
     },
     "execution_count": 303,
     "metadata": {},
     "output_type": "execute_result"
    }
   ],
   "source": [
    "y_pred2"
   ]
  },
  {
   "cell_type": "code",
   "execution_count": 304,
   "id": "06423e61",
   "metadata": {},
   "outputs": [],
   "source": [
    "labels = (train_generator.class_indices)\n",
    "labels = dict((v,k) for k,v in labels.items())\n",
    "predictions = [labels[k] for k in y_pred]"
   ]
  },
  {
   "cell_type": "code",
   "execution_count": 305,
   "id": "22ef6a0b",
   "metadata": {},
   "outputs": [],
   "source": [
    "filenames=test_generator.filenames\n",
    "results=pd.DataFrame({\"Filename\":filenames,\n",
    "                      \"Predictions\":y_pred2})"
   ]
  },
  {
   "cell_type": "code",
   "execution_count": 306,
   "id": "4357a793",
   "metadata": {},
   "outputs": [
    {
     "data": {
      "text/html": [
       "<div>\n",
       "<style scoped>\n",
       "    .dataframe tbody tr th:only-of-type {\n",
       "        vertical-align: middle;\n",
       "    }\n",
       "\n",
       "    .dataframe tbody tr th {\n",
       "        vertical-align: top;\n",
       "    }\n",
       "\n",
       "    .dataframe thead th {\n",
       "        text-align: right;\n",
       "    }\n",
       "</style>\n",
       "<table border=\"1\" class=\"dataframe\">\n",
       "  <thead>\n",
       "    <tr style=\"text-align: right;\">\n",
       "      <th></th>\n",
       "      <th>Filename</th>\n",
       "      <th>Predictions</th>\n",
       "    </tr>\n",
       "  </thead>\n",
       "  <tbody>\n",
       "    <tr>\n",
       "      <th>0</th>\n",
       "      <td>0\\00243.png</td>\n",
       "      <td>0</td>\n",
       "    </tr>\n",
       "    <tr>\n",
       "      <th>1</th>\n",
       "      <td>0\\00252.png</td>\n",
       "      <td>0</td>\n",
       "    </tr>\n",
       "    <tr>\n",
       "      <th>2</th>\n",
       "      <td>0\\00403.png</td>\n",
       "      <td>0</td>\n",
       "    </tr>\n",
       "    <tr>\n",
       "      <th>3</th>\n",
       "      <td>0\\00579.png</td>\n",
       "      <td>0</td>\n",
       "    </tr>\n",
       "    <tr>\n",
       "      <th>4</th>\n",
       "      <td>0\\00675.png</td>\n",
       "      <td>0</td>\n",
       "    </tr>\n",
       "    <tr>\n",
       "      <th>...</th>\n",
       "      <td>...</td>\n",
       "      <td>...</td>\n",
       "    </tr>\n",
       "    <tr>\n",
       "      <th>12625</th>\n",
       "      <td>42\\11842.png</td>\n",
       "      <td>42</td>\n",
       "    </tr>\n",
       "    <tr>\n",
       "      <th>12626</th>\n",
       "      <td>42\\12019.png</td>\n",
       "      <td>42</td>\n",
       "    </tr>\n",
       "    <tr>\n",
       "      <th>12627</th>\n",
       "      <td>42\\12098.png</td>\n",
       "      <td>42</td>\n",
       "    </tr>\n",
       "    <tr>\n",
       "      <th>12628</th>\n",
       "      <td>42\\12276.png</td>\n",
       "      <td>41</td>\n",
       "    </tr>\n",
       "    <tr>\n",
       "      <th>12629</th>\n",
       "      <td>42\\12502.png</td>\n",
       "      <td>42</td>\n",
       "    </tr>\n",
       "  </tbody>\n",
       "</table>\n",
       "<p>12630 rows × 2 columns</p>\n",
       "</div>"
      ],
      "text/plain": [
       "           Filename  Predictions\n",
       "0       0\\00243.png            0\n",
       "1       0\\00252.png            0\n",
       "2       0\\00403.png            0\n",
       "3       0\\00579.png            0\n",
       "4       0\\00675.png            0\n",
       "...             ...          ...\n",
       "12625  42\\11842.png           42\n",
       "12626  42\\12019.png           42\n",
       "12627  42\\12098.png           42\n",
       "12628  42\\12276.png           41\n",
       "12629  42\\12502.png           42\n",
       "\n",
       "[12630 rows x 2 columns]"
      ]
     },
     "execution_count": 306,
     "metadata": {},
     "output_type": "execute_result"
    }
   ],
   "source": [
    "results"
   ]
  },
  {
   "cell_type": "code",
   "execution_count": 308,
   "id": "b882a71a",
   "metadata": {},
   "outputs": [],
   "source": [
    "image_path = 'Datasets\\GTSRB - German Traffic Sign Recognition Benchmark\\Meta\\42.png'"
   ]
  },
  {
   "cell_type": "code",
   "execution_count": 311,
   "id": "6b86edc4",
   "metadata": {},
   "outputs": [
    {
     "ename": "ModuleNotFoundError",
     "evalue": "No module named 'cv2'",
     "output_type": "error",
     "traceback": [
      "\u001b[1;31m---------------------------------------------------------------------------\u001b[0m",
      "\u001b[1;31mModuleNotFoundError\u001b[0m                       Traceback (most recent call last)",
      "\u001b[1;32m~\\AppData\\Local\\Temp/ipykernel_18288/4235477061.py\u001b[0m in \u001b[0;36m<module>\u001b[1;34m\u001b[0m\n\u001b[1;32m----> 1\u001b[1;33m \u001b[1;32mimport\u001b[0m \u001b[0mcv2\u001b[0m\u001b[1;33m\u001b[0m\u001b[1;33m\u001b[0m\u001b[0m\n\u001b[0m",
      "\u001b[1;31mModuleNotFoundError\u001b[0m: No module named 'cv2'"
     ]
    }
   ],
   "source": [
    "import cv2\n"
   ]
  },
  {
   "cell_type": "code",
   "execution_count": 309,
   "id": "6c7a7d52",
   "metadata": {},
   "outputs": [
    {
     "ename": "IndexError",
     "evalue": "list index out of range",
     "output_type": "error",
     "traceback": [
      "\u001b[1;31m---------------------------------------------------------------------------\u001b[0m",
      "\u001b[1;31mIndexError\u001b[0m                                Traceback (most recent call last)",
      "\u001b[1;32m~\\AppData\\Local\\Temp/ipykernel_18288/1110100934.py\u001b[0m in \u001b[0;36m<module>\u001b[1;34m\u001b[0m\n\u001b[1;32m----> 1\u001b[1;33m \u001b[0mmodel\u001b[0m\u001b[1;33m.\u001b[0m\u001b[0mpredict\u001b[0m\u001b[1;33m(\u001b[0m\u001b[0mimage\u001b[0m\u001b[1;33m)\u001b[0m\u001b[1;33m\u001b[0m\u001b[1;33m\u001b[0m\u001b[0m\n\u001b[0m",
      "\u001b[1;32mC:\\ProgramData\\Anaconda3\\envs\\tf-gpu\\lib\\site-packages\\tensorflow\\python\\keras\\engine\\training.py\u001b[0m in \u001b[0;36mpredict\u001b[1;34m(self, x, batch_size, verbose, steps, callbacks, max_queue_size, workers, use_multiprocessing)\u001b[0m\n\u001b[0;32m   1694\u001b[0m                         '. Consider setting it to AutoShardPolicy.DATA.')\n\u001b[0;32m   1695\u001b[0m \u001b[1;33m\u001b[0m\u001b[0m\n\u001b[1;32m-> 1696\u001b[1;33m       data_handler = data_adapter.get_data_handler(\n\u001b[0m\u001b[0;32m   1697\u001b[0m           \u001b[0mx\u001b[0m\u001b[1;33m=\u001b[0m\u001b[0mx\u001b[0m\u001b[1;33m,\u001b[0m\u001b[1;33m\u001b[0m\u001b[1;33m\u001b[0m\u001b[0m\n\u001b[0;32m   1698\u001b[0m           \u001b[0mbatch_size\u001b[0m\u001b[1;33m=\u001b[0m\u001b[0mbatch_size\u001b[0m\u001b[1;33m,\u001b[0m\u001b[1;33m\u001b[0m\u001b[1;33m\u001b[0m\u001b[0m\n",
      "\u001b[1;32mC:\\ProgramData\\Anaconda3\\envs\\tf-gpu\\lib\\site-packages\\tensorflow\\python\\keras\\engine\\data_adapter.py\u001b[0m in \u001b[0;36mget_data_handler\u001b[1;34m(*args, **kwargs)\u001b[0m\n\u001b[0;32m   1362\u001b[0m   \u001b[1;32mif\u001b[0m \u001b[0mgetattr\u001b[0m\u001b[1;33m(\u001b[0m\u001b[0mkwargs\u001b[0m\u001b[1;33m[\u001b[0m\u001b[1;34m\"model\"\u001b[0m\u001b[1;33m]\u001b[0m\u001b[1;33m,\u001b[0m \u001b[1;34m\"_cluster_coordinator\"\u001b[0m\u001b[1;33m,\u001b[0m \u001b[1;32mNone\u001b[0m\u001b[1;33m)\u001b[0m\u001b[1;33m:\u001b[0m\u001b[1;33m\u001b[0m\u001b[1;33m\u001b[0m\u001b[0m\n\u001b[0;32m   1363\u001b[0m     \u001b[1;32mreturn\u001b[0m \u001b[0m_ClusterCoordinatorDataHandler\u001b[0m\u001b[1;33m(\u001b[0m\u001b[1;33m*\u001b[0m\u001b[0margs\u001b[0m\u001b[1;33m,\u001b[0m \u001b[1;33m**\u001b[0m\u001b[0mkwargs\u001b[0m\u001b[1;33m)\u001b[0m\u001b[1;33m\u001b[0m\u001b[1;33m\u001b[0m\u001b[0m\n\u001b[1;32m-> 1364\u001b[1;33m   \u001b[1;32mreturn\u001b[0m \u001b[0mDataHandler\u001b[0m\u001b[1;33m(\u001b[0m\u001b[1;33m*\u001b[0m\u001b[0margs\u001b[0m\u001b[1;33m,\u001b[0m \u001b[1;33m**\u001b[0m\u001b[0mkwargs\u001b[0m\u001b[1;33m)\u001b[0m\u001b[1;33m\u001b[0m\u001b[1;33m\u001b[0m\u001b[0m\n\u001b[0m\u001b[0;32m   1365\u001b[0m \u001b[1;33m\u001b[0m\u001b[0m\n\u001b[0;32m   1366\u001b[0m \u001b[1;33m\u001b[0m\u001b[0m\n",
      "\u001b[1;32mC:\\ProgramData\\Anaconda3\\envs\\tf-gpu\\lib\\site-packages\\tensorflow\\python\\keras\\engine\\data_adapter.py\u001b[0m in \u001b[0;36m__init__\u001b[1;34m(self, x, y, sample_weight, batch_size, steps_per_epoch, initial_epoch, epochs, shuffle, class_weight, max_queue_size, workers, use_multiprocessing, model, steps_per_execution, distribute)\u001b[0m\n\u001b[0;32m   1152\u001b[0m     \u001b[0madapter_cls\u001b[0m \u001b[1;33m=\u001b[0m \u001b[0mselect_data_adapter\u001b[0m\u001b[1;33m(\u001b[0m\u001b[0mx\u001b[0m\u001b[1;33m,\u001b[0m \u001b[0my\u001b[0m\u001b[1;33m)\u001b[0m\u001b[1;33m\u001b[0m\u001b[1;33m\u001b[0m\u001b[0m\n\u001b[0;32m   1153\u001b[0m     \u001b[0mself\u001b[0m\u001b[1;33m.\u001b[0m\u001b[0m_verify_data_adapter_compatibility\u001b[0m\u001b[1;33m(\u001b[0m\u001b[0madapter_cls\u001b[0m\u001b[1;33m)\u001b[0m\u001b[1;33m\u001b[0m\u001b[1;33m\u001b[0m\u001b[0m\n\u001b[1;32m-> 1154\u001b[1;33m     self._adapter = adapter_cls(\n\u001b[0m\u001b[0;32m   1155\u001b[0m         \u001b[0mx\u001b[0m\u001b[1;33m,\u001b[0m\u001b[1;33m\u001b[0m\u001b[1;33m\u001b[0m\u001b[0m\n\u001b[0;32m   1156\u001b[0m         \u001b[0my\u001b[0m\u001b[1;33m,\u001b[0m\u001b[1;33m\u001b[0m\u001b[1;33m\u001b[0m\u001b[0m\n",
      "\u001b[1;32mC:\\ProgramData\\Anaconda3\\envs\\tf-gpu\\lib\\site-packages\\tensorflow\\python\\keras\\engine\\data_adapter.py\u001b[0m in \u001b[0;36m__init__\u001b[1;34m(self, x, y, sample_weights, sample_weight_modes, batch_size, shuffle, **kwargs)\u001b[0m\n\u001b[0;32m    671\u001b[0m         sample_weights, sample_weight_modes)\n\u001b[0;32m    672\u001b[0m \u001b[1;33m\u001b[0m\u001b[0m\n\u001b[1;32m--> 673\u001b[1;33m     self._internal_adapter = TensorLikeDataAdapter(\n\u001b[0m\u001b[0;32m    674\u001b[0m         \u001b[0mx\u001b[0m\u001b[1;33m,\u001b[0m\u001b[1;33m\u001b[0m\u001b[1;33m\u001b[0m\u001b[0m\n\u001b[0;32m    675\u001b[0m         \u001b[0my\u001b[0m\u001b[1;33m=\u001b[0m\u001b[0my\u001b[0m\u001b[1;33m,\u001b[0m\u001b[1;33m\u001b[0m\u001b[1;33m\u001b[0m\u001b[0m\n",
      "\u001b[1;32mC:\\ProgramData\\Anaconda3\\envs\\tf-gpu\\lib\\site-packages\\tensorflow\\python\\keras\\engine\\data_adapter.py\u001b[0m in \u001b[0;36m__init__\u001b[1;34m(self, x, y, sample_weights, sample_weight_modes, batch_size, epochs, steps, shuffle, **kwargs)\u001b[0m\n\u001b[0;32m    255\u001b[0m     \u001b[0minputs\u001b[0m \u001b[1;33m=\u001b[0m \u001b[0mpack_x_y_sample_weight\u001b[0m\u001b[1;33m(\u001b[0m\u001b[0mx\u001b[0m\u001b[1;33m,\u001b[0m \u001b[0my\u001b[0m\u001b[1;33m,\u001b[0m \u001b[0msample_weights\u001b[0m\u001b[1;33m)\u001b[0m\u001b[1;33m\u001b[0m\u001b[1;33m\u001b[0m\u001b[0m\n\u001b[0;32m    256\u001b[0m \u001b[1;33m\u001b[0m\u001b[0m\n\u001b[1;32m--> 257\u001b[1;33m     \u001b[0mnum_samples\u001b[0m \u001b[1;33m=\u001b[0m \u001b[0mset\u001b[0m\u001b[1;33m(\u001b[0m\u001b[0mint\u001b[0m\u001b[1;33m(\u001b[0m\u001b[0mi\u001b[0m\u001b[1;33m.\u001b[0m\u001b[0mshape\u001b[0m\u001b[1;33m[\u001b[0m\u001b[1;36m0\u001b[0m\u001b[1;33m]\u001b[0m\u001b[1;33m)\u001b[0m \u001b[1;32mfor\u001b[0m \u001b[0mi\u001b[0m \u001b[1;32min\u001b[0m \u001b[0mnest\u001b[0m\u001b[1;33m.\u001b[0m\u001b[0mflatten\u001b[0m\u001b[1;33m(\u001b[0m\u001b[0minputs\u001b[0m\u001b[1;33m)\u001b[0m\u001b[1;33m)\u001b[0m\u001b[1;33m.\u001b[0m\u001b[0mpop\u001b[0m\u001b[1;33m(\u001b[0m\u001b[1;33m)\u001b[0m\u001b[1;33m\u001b[0m\u001b[1;33m\u001b[0m\u001b[0m\n\u001b[0m\u001b[0;32m    258\u001b[0m     \u001b[0m_check_data_cardinality\u001b[0m\u001b[1;33m(\u001b[0m\u001b[0minputs\u001b[0m\u001b[1;33m)\u001b[0m\u001b[1;33m\u001b[0m\u001b[1;33m\u001b[0m\u001b[0m\n\u001b[0;32m    259\u001b[0m \u001b[1;33m\u001b[0m\u001b[0m\n",
      "\u001b[1;32mC:\\ProgramData\\Anaconda3\\envs\\tf-gpu\\lib\\site-packages\\tensorflow\\python\\keras\\engine\\data_adapter.py\u001b[0m in \u001b[0;36m<genexpr>\u001b[1;34m(.0)\u001b[0m\n\u001b[0;32m    255\u001b[0m     \u001b[0minputs\u001b[0m \u001b[1;33m=\u001b[0m \u001b[0mpack_x_y_sample_weight\u001b[0m\u001b[1;33m(\u001b[0m\u001b[0mx\u001b[0m\u001b[1;33m,\u001b[0m \u001b[0my\u001b[0m\u001b[1;33m,\u001b[0m \u001b[0msample_weights\u001b[0m\u001b[1;33m)\u001b[0m\u001b[1;33m\u001b[0m\u001b[1;33m\u001b[0m\u001b[0m\n\u001b[0;32m    256\u001b[0m \u001b[1;33m\u001b[0m\u001b[0m\n\u001b[1;32m--> 257\u001b[1;33m     \u001b[0mnum_samples\u001b[0m \u001b[1;33m=\u001b[0m \u001b[0mset\u001b[0m\u001b[1;33m(\u001b[0m\u001b[0mint\u001b[0m\u001b[1;33m(\u001b[0m\u001b[0mi\u001b[0m\u001b[1;33m.\u001b[0m\u001b[0mshape\u001b[0m\u001b[1;33m[\u001b[0m\u001b[1;36m0\u001b[0m\u001b[1;33m]\u001b[0m\u001b[1;33m)\u001b[0m \u001b[1;32mfor\u001b[0m \u001b[0mi\u001b[0m \u001b[1;32min\u001b[0m \u001b[0mnest\u001b[0m\u001b[1;33m.\u001b[0m\u001b[0mflatten\u001b[0m\u001b[1;33m(\u001b[0m\u001b[0minputs\u001b[0m\u001b[1;33m)\u001b[0m\u001b[1;33m)\u001b[0m\u001b[1;33m.\u001b[0m\u001b[0mpop\u001b[0m\u001b[1;33m(\u001b[0m\u001b[1;33m)\u001b[0m\u001b[1;33m\u001b[0m\u001b[1;33m\u001b[0m\u001b[0m\n\u001b[0m\u001b[0;32m    258\u001b[0m     \u001b[0m_check_data_cardinality\u001b[0m\u001b[1;33m(\u001b[0m\u001b[0minputs\u001b[0m\u001b[1;33m)\u001b[0m\u001b[1;33m\u001b[0m\u001b[1;33m\u001b[0m\u001b[0m\n\u001b[0;32m    259\u001b[0m \u001b[1;33m\u001b[0m\u001b[0m\n",
      "\u001b[1;32mC:\\ProgramData\\Anaconda3\\envs\\tf-gpu\\lib\\site-packages\\tensorflow\\python\\framework\\tensor_shape.py\u001b[0m in \u001b[0;36m__getitem__\u001b[1;34m(self, key)\u001b[0m\n\u001b[0;32m    894\u001b[0m       \u001b[1;32melse\u001b[0m\u001b[1;33m:\u001b[0m\u001b[1;33m\u001b[0m\u001b[1;33m\u001b[0m\u001b[0m\n\u001b[0;32m    895\u001b[0m         \u001b[1;32mif\u001b[0m \u001b[0mself\u001b[0m\u001b[1;33m.\u001b[0m\u001b[0m_v2_behavior\u001b[0m\u001b[1;33m:\u001b[0m\u001b[1;33m\u001b[0m\u001b[1;33m\u001b[0m\u001b[0m\n\u001b[1;32m--> 896\u001b[1;33m           \u001b[1;32mreturn\u001b[0m \u001b[0mself\u001b[0m\u001b[1;33m.\u001b[0m\u001b[0m_dims\u001b[0m\u001b[1;33m[\u001b[0m\u001b[0mkey\u001b[0m\u001b[1;33m]\u001b[0m\u001b[1;33m.\u001b[0m\u001b[0mvalue\u001b[0m\u001b[1;33m\u001b[0m\u001b[1;33m\u001b[0m\u001b[0m\n\u001b[0m\u001b[0;32m    897\u001b[0m         \u001b[1;32melse\u001b[0m\u001b[1;33m:\u001b[0m\u001b[1;33m\u001b[0m\u001b[1;33m\u001b[0m\u001b[0m\n\u001b[0;32m    898\u001b[0m           \u001b[1;32mreturn\u001b[0m \u001b[0mself\u001b[0m\u001b[1;33m.\u001b[0m\u001b[0m_dims\u001b[0m\u001b[1;33m[\u001b[0m\u001b[0mkey\u001b[0m\u001b[1;33m]\u001b[0m\u001b[1;33m\u001b[0m\u001b[1;33m\u001b[0m\u001b[0m\n",
      "\u001b[1;31mIndexError\u001b[0m: list index out of range"
     ]
    }
   ],
   "source": [
    "model.predict(image)"
   ]
  },
  {
   "cell_type": "code",
   "execution_count": 313,
   "id": "286d8bc2",
   "metadata": {},
   "outputs": [],
   "source": [
    "save_dir=test+'idontknow'"
   ]
  },
  {
   "cell_type": "code",
   "execution_count": 314,
   "id": "e086bbdd",
   "metadata": {},
   "outputs": [
    {
     "data": {
      "text/plain": [
       "'Datasets/GTSRB - German Traffic Sign Recognition Benchmark/Working/Test/idontknow'"
      ]
     },
     "execution_count": 314,
     "metadata": {},
     "output_type": "execute_result"
    }
   ],
   "source": [
    "save_dir"
   ]
  },
  {
   "cell_type": "code",
   "execution_count": 343,
   "id": "9f3aa616",
   "metadata": {},
   "outputs": [
    {
     "name": "stdout",
     "output_type": "stream",
     "text": [
      "Class: 2\n"
     ]
    },
    {
     "data": {
      "text/plain": [
       "<matplotlib.image.AxesImage at 0x19537d00c70>"
      ]
     },
     "execution_count": 343,
     "metadata": {},
     "output_type": "execute_result"
    },
    {
     "data": {
      "image/png": "[encoded data removed]",
      "text/plain": [
       "<Figure size 432x288 with 1 Axes>"
      ]
     },
     "metadata": {
      "needs_background": "light"
     },
     "output_type": "display_data"
    }
   ],
   "source": [
    "import matplotlib.pyplot as plt\n",
    "from IPython.core.display import display, HTML\n",
    "\n",
    "image, label = next(test_generator)  \n",
    "print(f'Class: {np.argmax(label[0])}') \n",
    "\n",
    "plt.imshow(image[0])   # shows the first image"
   ]
  },
  {
   "cell_type": "code",
   "execution_count": null,
   "id": "87dcaa7d",
   "metadata": {},
   "outputs": [],
   "source": []
  },
  {
   "cell_type": "code",
   "execution_count": null,
   "id": "b5fa11b5",
   "metadata": {},
   "outputs": [],
   "source": []
  }
 ],
 "metadata": {
  "kernelspec": {
   "display_name": "Python 3 (ipykernel)",
   "language": "python",
   "name": "python3"
  },
  "language_info": {
   "codemirror_mode": {
    "name": "ipython",
    "version": 3
   },
   "file_extension": ".py",
   "mimetype": "text/x-python",
   "name": "python",
   "nbconvert_exporter": "python",
   "pygments_lexer": "ipython3",
   "version": "3.9.7"
  }
 },
 "nbformat": 4,
 "nbformat_minor": 5
}
