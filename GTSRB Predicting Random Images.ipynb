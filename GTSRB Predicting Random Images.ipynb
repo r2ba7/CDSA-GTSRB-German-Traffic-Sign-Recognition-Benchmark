{
 "cells": [
  {
   "cell_type": "code",
   "execution_count": 154,
   "id": "079303a7",
   "metadata": {},
   "outputs": [
    {
     "name": "stdout",
     "output_type": "stream",
     "text": [
      "Num GPUs Available:  1\n"
     ]
    }
   ],
   "source": [
    "import numpy as np\n",
    "import matplotlib.pyplot as plt\n",
    "import os\n",
    "import shutil\n",
    "import cv2\n",
    "from matplotlib.image import imread\n",
    "\n",
    "import tensorflow as tf\n",
    "print(\"Num GPUs Available: \", len(tf.config.list_physical_devices('GPU')))\n",
    "from tensorflow.keras.preprocessing.image import ImageDataGenerator\n",
    "from tensorflow.keras.models import Sequential\n",
    "from tensorflow.keras.layers import Dense, Dropout, Activation, Flatten\n",
    "from tensorflow.keras.layers import Conv2D, MaxPooling2D"
   ]
  },
  {
   "cell_type": "code",
   "execution_count": 155,
   "id": "b3b5a727",
   "metadata": {},
   "outputs": [
    {
     "name": "stdout",
     "output_type": "stream",
     "text": [
      "Model: \"sequential\"\n",
      "_________________________________________________________________\n",
      "Layer (type)                 Output Shape              Param #   \n",
      "=================================================================\n",
      "conv2d (Conv2D)              (None, 60, 60, 32)        896       \n",
      "_________________________________________________________________\n",
      "conv2d_1 (Conv2D)            (None, 60, 60, 32)        9248      \n",
      "_________________________________________________________________\n",
      "batch_normalization (BatchNo (None, 60, 60, 32)        128       \n",
      "_________________________________________________________________\n",
      "max_pooling2d (MaxPooling2D) (None, 30, 30, 32)        0         \n",
      "_________________________________________________________________\n",
      "conv2d_2 (Conv2D)            (None, 30, 30, 64)        18496     \n",
      "_________________________________________________________________\n",
      "conv2d_3 (Conv2D)            (None, 30, 30, 64)        36928     \n",
      "_________________________________________________________________\n",
      "batch_normalization_1 (Batch (None, 30, 30, 64)        256       \n",
      "_________________________________________________________________\n",
      "max_pooling2d_1 (MaxPooling2 (None, 15, 15, 64)        0         \n",
      "_________________________________________________________________\n",
      "conv2d_4 (Conv2D)            (None, 15, 15, 128)       73856     \n",
      "_________________________________________________________________\n",
      "conv2d_5 (Conv2D)            (None, 15, 15, 128)       147584    \n",
      "_________________________________________________________________\n",
      "batch_normalization_2 (Batch (None, 15, 15, 128)       512       \n",
      "_________________________________________________________________\n",
      "max_pooling2d_2 (MaxPooling2 (None, 7, 7, 128)         0         \n",
      "_________________________________________________________________\n",
      "conv2d_6 (Conv2D)            (None, 7, 7, 256)         295168    \n",
      "_________________________________________________________________\n",
      "conv2d_7 (Conv2D)            (None, 7, 7, 512)         131584    \n",
      "_________________________________________________________________\n",
      "max_pooling2d_3 (MaxPooling2 (None, 3, 3, 512)         0         \n",
      "_________________________________________________________________\n",
      "dropout (Dropout)            (None, 3, 3, 512)         0         \n",
      "_________________________________________________________________\n",
      "flatten (Flatten)            (None, 4608)              0         \n",
      "_________________________________________________________________\n",
      "dense (Dense)                (None, 1024)              4719616   \n",
      "_________________________________________________________________\n",
      "dropout_1 (Dropout)          (None, 1024)              0         \n",
      "_________________________________________________________________\n",
      "dense_1 (Dense)              (None, 512)               524800    \n",
      "_________________________________________________________________\n",
      "dropout_2 (Dropout)          (None, 512)               0         \n",
      "_________________________________________________________________\n",
      "dense_2 (Dense)              (None, 43)                22059     \n",
      "=================================================================\n",
      "Total params: 5,981,131\n",
      "Trainable params: 5,980,683\n",
      "Non-trainable params: 448\n",
      "_________________________________________________________________\n"
     ]
    }
   ],
   "source": [
    "model = tf.keras.models.load_model(\"my_model\")\n",
    "model.summary()"
   ]
  },
  {
   "cell_type": "code",
   "execution_count": 156,
   "id": "676b299f",
   "metadata": {},
   "outputs": [],
   "source": [
    "def predict_image(image_path, image_size):\n",
    "    image = cv2.imread(image_path)\n",
    "    image = cv2.resize(image,dsize=image_size, interpolation = cv2.INTER_CUBIC)\n",
    "    np_image_data = np.asarray(image)\n",
    "    np_final = np.expand_dims(np_image_data,axis=0)\n",
    "    pred = model.predict(np_final)\n",
    "    return np.argmax(pred)"
   ]
  },
  {
   "cell_type": "code",
   "execution_count": 157,
   "id": "47ce97f5",
   "metadata": {},
   "outputs": [],
   "source": [
    "labels = []\n",
    "image_size = (60, 60)\n",
    "images = ['11804.png', '02139.png', '02585.png', '01472.png', '00202.png', '00294.png', \n",
    "         '01580.png', '01789.png', '01252.png', '00998.png', '00974.png', '00816.png',\n",
    "         '01213.png', '00362.png', '01533.png', '03311.png', '03359.png', '04042.png',\n",
    "         '02147.png', '08184.png', '01961.png', '00907.png', '04718.png', '03840.png',\n",
    "         '01183.png', '01911.png', '05223.png', '01699.png', '03421.png', '07953.png',\n",
    "         '04070.png', '02152.png', '08000.png', '02953.png', '05292.png', '01157.png',\n",
    "         '01758.png', '06696.png', '00828.png', '00781.png', '05659.png', '10910.png',\n",
    "         '09233.png']\n",
    "\n",
    "correct_labels = ['0', '1', '2', '3', '4', '5', '6', '7', '8', '9','10','11','12','13','14','15','16','17',\n",
    "                  '18','19','20', '21', '22', '23', '24', '25', '26', '27', '28', '29', '30', '31', '32', \n",
    "                  '33', '34', '35', '36', '37', '38', '39', '40', '41', '42']\n",
    "\n",
    "correct_labels = np.array(correct_labels)\n",
    "correct_labels = correct_labels.astype(np.int32)\n",
    "\n",
    "assert len(correct_labels) == len(images), \"Not Equal\"\n",
    "\n",
    "for image in images:\n",
    "    image_path = 'Datasets/GTSRB - German Traffic Sign Recognition Benchmark/Test/' + image\n",
    "    labels.append(predict_image(image_path, image_size))\n"
   ]
  },
  {
   "cell_type": "code",
   "execution_count": 158,
   "id": "0bef759a",
   "metadata": {},
   "outputs": [
    {
     "name": "stdout",
     "output_type": "stream",
     "text": [
      " percentage: 0.7209302325581395%\n"
     ]
    }
   ],
   "source": [
    "print(f' percentage: {(labels == correct_labels).sum()/len(labels)}%')"
   ]
  },
  {
   "cell_type": "code",
   "execution_count": null,
   "id": "b983dfea",
   "metadata": {},
   "outputs": [],
   "source": []
  }
 ],
 "metadata": {
  "kernelspec": {
   "display_name": "Python 3 (ipykernel)",
   "language": "python",
   "name": "python3"
  },
  "language_info": {
   "codemirror_mode": {
    "name": "ipython",
    "version": 3
   },
   "file_extension": ".py",
   "mimetype": "text/x-python",
   "name": "python",
   "nbconvert_exporter": "python",
   "pygments_lexer": "ipython3",
   "version": "3.9.7"
  }
 },
 "nbformat": 4,
 "nbformat_minor": 5
}
